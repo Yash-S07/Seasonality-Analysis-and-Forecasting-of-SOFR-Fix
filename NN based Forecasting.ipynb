{
 "cells": [
  {
   "cell_type": "code",
   "execution_count": 1,
   "metadata": {
    "id": "Ns9F0-mEQJ-G"
   },
   "outputs": [],
   "source": [
    "import pandas as pd\n",
    "import numpy as np\n",
    "import seaborn as sns\n",
    "from sklearn.preprocessing import PowerTransformer, MinMaxScaler,StandardScaler\n",
    "import tensorflow as tf\n",
    "from tensorflow.keras.layers import Input, LSTM, Dense, Dropout, Concatenate\n",
    "from tensorflow.keras.models import Model\n",
    "from tensorflow.keras.callbacks import EarlyStopping, ReduceLROnPlateau\n",
    "from sklearn.metrics import mean_absolute_error, mean_squared_error, r2_score\n",
    "import matplotlib.pyplot as plt\n"
   ]
  },
  {
   "cell_type": "code",
   "execution_count": 2,
   "metadata": {
    "id": "2MT3ms0zQN5q"
   },
   "outputs": [],
   "source": [
    "data=pd.read_csv('repo_main - Sheet1 (1).csv')\n",
    "data=data[::-1]\n",
    "data = data.reset_index(drop=True)\n",
    "\n",
    "rate=pd.read_csv('DFF_m - DFF (1).csv')"
   ]
  },
  {
   "cell_type": "code",
   "execution_count": 3,
   "metadata": {
    "colab": {
     "base_uri": "https://localhost:8080/",
     "height": 206
    },
    "id": "lutGUSGY4SmO",
    "outputId": "f5655e05-9389-408b-e439-51699c207c39"
   },
   "outputs": [
    {
     "data": {
      "text/html": [
       "<div>\n",
       "<style scoped>\n",
       "    .dataframe tbody tr th:only-of-type {\n",
       "        vertical-align: middle;\n",
       "    }\n",
       "\n",
       "    .dataframe tbody tr th {\n",
       "        vertical-align: top;\n",
       "    }\n",
       "\n",
       "    .dataframe thead th {\n",
       "        text-align: right;\n",
       "    }\n",
       "</style>\n",
       "<table border=\"1\" class=\"dataframe\">\n",
       "  <thead>\n",
       "    <tr style=\"text-align: right;\">\n",
       "      <th></th>\n",
       "      <th>observation_date</th>\n",
       "      <th>DFF</th>\n",
       "    </tr>\n",
       "  </thead>\n",
       "  <tbody>\n",
       "    <tr>\n",
       "      <th>0</th>\n",
       "      <td>2018-1-1</td>\n",
       "      <td>1.33</td>\n",
       "    </tr>\n",
       "    <tr>\n",
       "      <th>1</th>\n",
       "      <td>2018-2-1</td>\n",
       "      <td>1.42</td>\n",
       "    </tr>\n",
       "    <tr>\n",
       "      <th>2</th>\n",
       "      <td>2018-3-1</td>\n",
       "      <td>1.42</td>\n",
       "    </tr>\n",
       "    <tr>\n",
       "      <th>3</th>\n",
       "      <td>2018-4-1</td>\n",
       "      <td>1.42</td>\n",
       "    </tr>\n",
       "    <tr>\n",
       "      <th>4</th>\n",
       "      <td>2018-5-1</td>\n",
       "      <td>1.42</td>\n",
       "    </tr>\n",
       "  </tbody>\n",
       "</table>\n",
       "</div>"
      ],
      "text/plain": [
       "  observation_date   DFF\n",
       "0         2018-1-1  1.33\n",
       "1         2018-2-1  1.42\n",
       "2         2018-3-1  1.42\n",
       "3         2018-4-1  1.42\n",
       "4         2018-5-1  1.42"
      ]
     },
     "execution_count": 3,
     "metadata": {},
     "output_type": "execute_result"
    }
   ],
   "source": [
    "rate.head()"
   ]
  },
  {
   "cell_type": "code",
   "execution_count": 4,
   "metadata": {
    "colab": {
     "base_uri": "https://localhost:8080/",
     "height": 206
    },
    "id": "NGf2SxDHRTWX",
    "outputId": "b1337ace-d09c-4282-ac81-d9b4a9cecb07"
   },
   "outputs": [
    {
     "data": {
      "text/html": [
       "<div>\n",
       "<style scoped>\n",
       "    .dataframe tbody tr th:only-of-type {\n",
       "        vertical-align: middle;\n",
       "    }\n",
       "\n",
       "    .dataframe tbody tr th {\n",
       "        vertical-align: top;\n",
       "    }\n",
       "\n",
       "    .dataframe thead th {\n",
       "        text-align: right;\n",
       "    }\n",
       "</style>\n",
       "<table border=\"1\" class=\"dataframe\">\n",
       "  <thead>\n",
       "    <tr style=\"text-align: right;\">\n",
       "      <th></th>\n",
       "      <th>Date</th>\n",
       "      <th>SOFR Fix</th>\n",
       "      <th>SOFR Volume</th>\n",
       "      <th>DTCC Tsy</th>\n",
       "      <th>RRP Amt</th>\n",
       "      <th>TGA Balance</th>\n",
       "      <th>Unnamed: 6</th>\n",
       "    </tr>\n",
       "  </thead>\n",
       "  <tbody>\n",
       "    <tr>\n",
       "      <th>0</th>\n",
       "      <td>4/2/2018</td>\n",
       "      <td>1.80</td>\n",
       "      <td>849</td>\n",
       "      <td>1.950</td>\n",
       "      <td>3.823</td>\n",
       "      <td>324.262</td>\n",
       "      <td>NaN</td>\n",
       "    </tr>\n",
       "    <tr>\n",
       "      <th>1</th>\n",
       "      <td>4/3/2018</td>\n",
       "      <td>1.83</td>\n",
       "      <td>825</td>\n",
       "      <td>1.930</td>\n",
       "      <td>8.695</td>\n",
       "      <td>299.702</td>\n",
       "      <td>NaN</td>\n",
       "    </tr>\n",
       "    <tr>\n",
       "      <th>2</th>\n",
       "      <td>4/4/2018</td>\n",
       "      <td>1.74</td>\n",
       "      <td>859</td>\n",
       "      <td>1.795</td>\n",
       "      <td>4.570</td>\n",
       "      <td>300.604</td>\n",
       "      <td>NaN</td>\n",
       "    </tr>\n",
       "    <tr>\n",
       "      <th>3</th>\n",
       "      <td>4/5/2018</td>\n",
       "      <td>1.75</td>\n",
       "      <td>829</td>\n",
       "      <td>1.830</td>\n",
       "      <td>4.645</td>\n",
       "      <td>292.669</td>\n",
       "      <td>NaN</td>\n",
       "    </tr>\n",
       "    <tr>\n",
       "      <th>4</th>\n",
       "      <td>4/6/2018</td>\n",
       "      <td>1.75</td>\n",
       "      <td>845</td>\n",
       "      <td>1.819</td>\n",
       "      <td>4.895</td>\n",
       "      <td>291.637</td>\n",
       "      <td>NaN</td>\n",
       "    </tr>\n",
       "  </tbody>\n",
       "</table>\n",
       "</div>"
      ],
      "text/plain": [
       "       Date  SOFR Fix SOFR Volume  DTCC Tsy  RRP Amt  TGA Balance Unnamed: 6\n",
       "0  4/2/2018      1.80         849     1.950    3.823      324.262        NaN\n",
       "1  4/3/2018      1.83         825     1.930    8.695      299.702        NaN\n",
       "2  4/4/2018      1.74         859     1.795    4.570      300.604        NaN\n",
       "3  4/5/2018      1.75         829     1.830    4.645      292.669        NaN\n",
       "4  4/6/2018      1.75         845     1.819    4.895      291.637        NaN"
      ]
     },
     "execution_count": 4,
     "metadata": {},
     "output_type": "execute_result"
    }
   ],
   "source": [
    "data.head(5)"
   ]
  },
  {
   "cell_type": "code",
   "execution_count": 5,
   "metadata": {
    "id": "xpjLw8pkRWOy"
   },
   "outputs": [],
   "source": [
    "data=data.dropna(axis=1)"
   ]
  },
  {
   "cell_type": "code",
   "execution_count": 6,
   "metadata": {
    "colab": {
     "base_uri": "https://localhost:8080/"
    },
    "id": "80Gxj-YmSIVK",
    "outputId": "816b8cac-7370-4f82-eb01-84a7a1d9ae43"
   },
   "outputs": [
    {
     "name": "stdout",
     "output_type": "stream",
     "text": [
      "<class 'pandas.core.frame.DataFrame'>\n",
      "RangeIndex: 1873 entries, 0 to 1872\n",
      "Data columns (total 6 columns):\n",
      " #   Column       Non-Null Count  Dtype  \n",
      "---  ------       --------------  -----  \n",
      " 0   Date         1873 non-null   object \n",
      " 1   SOFR Fix     1873 non-null   float64\n",
      " 2   SOFR Volume  1873 non-null   object \n",
      " 3   DTCC Tsy     1873 non-null   float64\n",
      " 4   RRP Amt      1873 non-null   float64\n",
      " 5   TGA Balance  1873 non-null   float64\n",
      "dtypes: float64(4), object(2)\n",
      "memory usage: 87.9+ KB\n"
     ]
    }
   ],
   "source": [
    "data.info()"
   ]
  },
  {
   "cell_type": "code",
   "execution_count": 7,
   "metadata": {
    "colab": {
     "base_uri": "https://localhost:8080/"
    },
    "id": "Zdp9GXQsZTLl",
    "outputId": "3864f1c6-2f31-4a91-ef9d-9ccd96d9857b"
   },
   "outputs": [
    {
     "data": {
      "text/plain": [
       "(1873, 6)"
      ]
     },
     "execution_count": 7,
     "metadata": {},
     "output_type": "execute_result"
    }
   ],
   "source": [
    "data.shape"
   ]
  },
  {
   "cell_type": "code",
   "execution_count": 8,
   "metadata": {
    "id": "lCu6BAnISWH6"
   },
   "outputs": [],
   "source": [
    "data['Date'] = pd.to_datetime(data['Date'], format='mixed', dayfirst=True, errors='coerce')\n",
    "data['SOFR Volume']=pd.to_numeric(data['SOFR Volume'],errors='coerce')\n",
    "\n",
    "rate['observation_date'] = pd.to_datetime(rate['observation_date'], format='mixed', dayfirst=True, errors='coerce')\n"
   ]
  },
  {
   "cell_type": "code",
   "execution_count": 9,
   "metadata": {
    "colab": {
     "base_uri": "https://localhost:8080/",
     "height": 206
    },
    "id": "PuEOa3FP4tcG",
    "outputId": "81259a03-5249-482d-ff7a-531e699ce56c"
   },
   "outputs": [
    {
     "data": {
      "text/html": [
       "<div>\n",
       "<style scoped>\n",
       "    .dataframe tbody tr th:only-of-type {\n",
       "        vertical-align: middle;\n",
       "    }\n",
       "\n",
       "    .dataframe tbody tr th {\n",
       "        vertical-align: top;\n",
       "    }\n",
       "\n",
       "    .dataframe thead th {\n",
       "        text-align: right;\n",
       "    }\n",
       "</style>\n",
       "<table border=\"1\" class=\"dataframe\">\n",
       "  <thead>\n",
       "    <tr style=\"text-align: right;\">\n",
       "      <th></th>\n",
       "      <th>observation_date</th>\n",
       "      <th>DFF</th>\n",
       "    </tr>\n",
       "  </thead>\n",
       "  <tbody>\n",
       "    <tr>\n",
       "      <th>0</th>\n",
       "      <td>2018-01-01</td>\n",
       "      <td>1.33</td>\n",
       "    </tr>\n",
       "    <tr>\n",
       "      <th>1</th>\n",
       "      <td>2018-02-01</td>\n",
       "      <td>1.42</td>\n",
       "    </tr>\n",
       "    <tr>\n",
       "      <th>2</th>\n",
       "      <td>2018-03-01</td>\n",
       "      <td>1.42</td>\n",
       "    </tr>\n",
       "    <tr>\n",
       "      <th>3</th>\n",
       "      <td>2018-04-01</td>\n",
       "      <td>1.42</td>\n",
       "    </tr>\n",
       "    <tr>\n",
       "      <th>4</th>\n",
       "      <td>2018-05-01</td>\n",
       "      <td>1.42</td>\n",
       "    </tr>\n",
       "  </tbody>\n",
       "</table>\n",
       "</div>"
      ],
      "text/plain": [
       "  observation_date   DFF\n",
       "0       2018-01-01  1.33\n",
       "1       2018-02-01  1.42\n",
       "2       2018-03-01  1.42\n",
       "3       2018-04-01  1.42\n",
       "4       2018-05-01  1.42"
      ]
     },
     "execution_count": 9,
     "metadata": {},
     "output_type": "execute_result"
    }
   ],
   "source": [
    "rate.head()"
   ]
  },
  {
   "cell_type": "code",
   "execution_count": 10,
   "metadata": {
    "colab": {
     "base_uri": "https://localhost:8080/",
     "height": 272
    },
    "id": "Dfuicyz6KaCm",
    "outputId": "6d8962aa-21b5-4476-f7dd-b5dc8bc6eaf0"
   },
   "outputs": [
    {
     "data": {
      "text/plain": [
       "Date            0\n",
       "SOFR Fix        0\n",
       "SOFR Volume    14\n",
       "DTCC Tsy        0\n",
       "RRP Amt         0\n",
       "TGA Balance     0\n",
       "dtype: int64"
      ]
     },
     "execution_count": 10,
     "metadata": {},
     "output_type": "execute_result"
    }
   ],
   "source": [
    "data.isnull().sum()"
   ]
  },
  {
   "cell_type": "code",
   "execution_count": 11,
   "metadata": {
    "id": "zbaH8EyUKqFW"
   },
   "outputs": [],
   "source": [
    "data['SOFR Volume'] = data['SOFR Volume'].fillna(data['SOFR Volume'].mean())"
   ]
  },
  {
   "cell_type": "code",
   "execution_count": 12,
   "metadata": {
    "colab": {
     "base_uri": "https://localhost:8080/",
     "height": 676
    },
    "id": "y6_OTXtwTTSD",
    "outputId": "6564752d-3f49-4cb3-bac6-ab72a6ad4e67"
   },
   "outputs": [
    {
     "data": {
      "text/html": [
       "<div>\n",
       "<style scoped>\n",
       "    .dataframe tbody tr th:only-of-type {\n",
       "        vertical-align: middle;\n",
       "    }\n",
       "\n",
       "    .dataframe tbody tr th {\n",
       "        vertical-align: top;\n",
       "    }\n",
       "\n",
       "    .dataframe thead th {\n",
       "        text-align: right;\n",
       "    }\n",
       "</style>\n",
       "<table border=\"1\" class=\"dataframe\">\n",
       "  <thead>\n",
       "    <tr style=\"text-align: right;\">\n",
       "      <th></th>\n",
       "      <th>Date</th>\n",
       "      <th>SOFR Fix</th>\n",
       "      <th>SOFR Volume</th>\n",
       "      <th>DTCC Tsy</th>\n",
       "      <th>RRP Amt</th>\n",
       "      <th>TGA Balance</th>\n",
       "    </tr>\n",
       "  </thead>\n",
       "  <tbody>\n",
       "    <tr>\n",
       "      <th>0</th>\n",
       "      <td>2018-02-04</td>\n",
       "      <td>1.80</td>\n",
       "      <td>849.0</td>\n",
       "      <td>1.950</td>\n",
       "      <td>3.823</td>\n",
       "      <td>324.262</td>\n",
       "    </tr>\n",
       "    <tr>\n",
       "      <th>1</th>\n",
       "      <td>2018-03-04</td>\n",
       "      <td>1.83</td>\n",
       "      <td>825.0</td>\n",
       "      <td>1.930</td>\n",
       "      <td>8.695</td>\n",
       "      <td>299.702</td>\n",
       "    </tr>\n",
       "    <tr>\n",
       "      <th>2</th>\n",
       "      <td>2018-04-04</td>\n",
       "      <td>1.74</td>\n",
       "      <td>859.0</td>\n",
       "      <td>1.795</td>\n",
       "      <td>4.570</td>\n",
       "      <td>300.604</td>\n",
       "    </tr>\n",
       "    <tr>\n",
       "      <th>3</th>\n",
       "      <td>2018-05-04</td>\n",
       "      <td>1.75</td>\n",
       "      <td>829.0</td>\n",
       "      <td>1.830</td>\n",
       "      <td>4.645</td>\n",
       "      <td>292.669</td>\n",
       "    </tr>\n",
       "    <tr>\n",
       "      <th>4</th>\n",
       "      <td>2018-06-04</td>\n",
       "      <td>1.75</td>\n",
       "      <td>845.0</td>\n",
       "      <td>1.819</td>\n",
       "      <td>4.895</td>\n",
       "      <td>291.637</td>\n",
       "    </tr>\n",
       "    <tr>\n",
       "      <th>5</th>\n",
       "      <td>2018-09-04</td>\n",
       "      <td>1.75</td>\n",
       "      <td>833.0</td>\n",
       "      <td>1.834</td>\n",
       "      <td>4.070</td>\n",
       "      <td>301.022</td>\n",
       "    </tr>\n",
       "    <tr>\n",
       "      <th>6</th>\n",
       "      <td>2018-10-04</td>\n",
       "      <td>1.75</td>\n",
       "      <td>811.0</td>\n",
       "      <td>1.825</td>\n",
       "      <td>3.990</td>\n",
       "      <td>302.176</td>\n",
       "    </tr>\n",
       "    <tr>\n",
       "      <th>7</th>\n",
       "      <td>2018-11-04</td>\n",
       "      <td>1.76</td>\n",
       "      <td>811.0</td>\n",
       "      <td>1.823</td>\n",
       "      <td>2.361</td>\n",
       "      <td>287.804</td>\n",
       "    </tr>\n",
       "    <tr>\n",
       "      <th>8</th>\n",
       "      <td>2018-12-04</td>\n",
       "      <td>1.73</td>\n",
       "      <td>871.0</td>\n",
       "      <td>1.786</td>\n",
       "      <td>4.120</td>\n",
       "      <td>225.320</td>\n",
       "    </tr>\n",
       "    <tr>\n",
       "      <th>9</th>\n",
       "      <td>2018-04-13</td>\n",
       "      <td>1.72</td>\n",
       "      <td>776.0</td>\n",
       "      <td>1.796</td>\n",
       "      <td>3.471</td>\n",
       "      <td>245.560</td>\n",
       "    </tr>\n",
       "    <tr>\n",
       "      <th>10</th>\n",
       "      <td>2018-04-16</td>\n",
       "      <td>1.77</td>\n",
       "      <td>770.0</td>\n",
       "      <td>1.836</td>\n",
       "      <td>3.372</td>\n",
       "      <td>262.442</td>\n",
       "    </tr>\n",
       "    <tr>\n",
       "      <th>11</th>\n",
       "      <td>2018-04-17</td>\n",
       "      <td>1.76</td>\n",
       "      <td>729.0</td>\n",
       "      <td>1.829</td>\n",
       "      <td>3.971</td>\n",
       "      <td>351.336</td>\n",
       "    </tr>\n",
       "    <tr>\n",
       "      <th>12</th>\n",
       "      <td>2018-04-18</td>\n",
       "      <td>1.75</td>\n",
       "      <td>738.0</td>\n",
       "      <td>1.804</td>\n",
       "      <td>14.021</td>\n",
       "      <td>350.943</td>\n",
       "    </tr>\n",
       "    <tr>\n",
       "      <th>13</th>\n",
       "      <td>2018-04-19</td>\n",
       "      <td>1.73</td>\n",
       "      <td>745.0</td>\n",
       "      <td>1.777</td>\n",
       "      <td>13.920</td>\n",
       "      <td>326.142</td>\n",
       "    </tr>\n",
       "    <tr>\n",
       "      <th>14</th>\n",
       "      <td>2018-04-20</td>\n",
       "      <td>1.72</td>\n",
       "      <td>726.0</td>\n",
       "      <td>1.759</td>\n",
       "      <td>12.020</td>\n",
       "      <td>336.271</td>\n",
       "    </tr>\n",
       "    <tr>\n",
       "      <th>15</th>\n",
       "      <td>2018-04-23</td>\n",
       "      <td>1.70</td>\n",
       "      <td>755.0</td>\n",
       "      <td>1.742</td>\n",
       "      <td>10.821</td>\n",
       "      <td>365.561</td>\n",
       "    </tr>\n",
       "    <tr>\n",
       "      <th>16</th>\n",
       "      <td>2018-04-24</td>\n",
       "      <td>1.71</td>\n",
       "      <td>747.0</td>\n",
       "      <td>1.755</td>\n",
       "      <td>9.532</td>\n",
       "      <td>413.608</td>\n",
       "    </tr>\n",
       "    <tr>\n",
       "      <th>17</th>\n",
       "      <td>2018-04-25</td>\n",
       "      <td>1.71</td>\n",
       "      <td>728.0</td>\n",
       "      <td>1.756</td>\n",
       "      <td>3.570</td>\n",
       "      <td>403.067</td>\n",
       "    </tr>\n",
       "    <tr>\n",
       "      <th>18</th>\n",
       "      <td>2018-04-26</td>\n",
       "      <td>1.72</td>\n",
       "      <td>725.0</td>\n",
       "      <td>1.776</td>\n",
       "      <td>3.795</td>\n",
       "      <td>395.225</td>\n",
       "    </tr>\n",
       "    <tr>\n",
       "      <th>19</th>\n",
       "      <td>2018-04-27</td>\n",
       "      <td>1.72</td>\n",
       "      <td>732.0</td>\n",
       "      <td>1.772</td>\n",
       "      <td>2.920</td>\n",
       "      <td>406.195</td>\n",
       "    </tr>\n",
       "  </tbody>\n",
       "</table>\n",
       "</div>"
      ],
      "text/plain": [
       "         Date  SOFR Fix  SOFR Volume  DTCC Tsy  RRP Amt  TGA Balance\n",
       "0  2018-02-04      1.80        849.0     1.950    3.823      324.262\n",
       "1  2018-03-04      1.83        825.0     1.930    8.695      299.702\n",
       "2  2018-04-04      1.74        859.0     1.795    4.570      300.604\n",
       "3  2018-05-04      1.75        829.0     1.830    4.645      292.669\n",
       "4  2018-06-04      1.75        845.0     1.819    4.895      291.637\n",
       "5  2018-09-04      1.75        833.0     1.834    4.070      301.022\n",
       "6  2018-10-04      1.75        811.0     1.825    3.990      302.176\n",
       "7  2018-11-04      1.76        811.0     1.823    2.361      287.804\n",
       "8  2018-12-04      1.73        871.0     1.786    4.120      225.320\n",
       "9  2018-04-13      1.72        776.0     1.796    3.471      245.560\n",
       "10 2018-04-16      1.77        770.0     1.836    3.372      262.442\n",
       "11 2018-04-17      1.76        729.0     1.829    3.971      351.336\n",
       "12 2018-04-18      1.75        738.0     1.804   14.021      350.943\n",
       "13 2018-04-19      1.73        745.0     1.777   13.920      326.142\n",
       "14 2018-04-20      1.72        726.0     1.759   12.020      336.271\n",
       "15 2018-04-23      1.70        755.0     1.742   10.821      365.561\n",
       "16 2018-04-24      1.71        747.0     1.755    9.532      413.608\n",
       "17 2018-04-25      1.71        728.0     1.756    3.570      403.067\n",
       "18 2018-04-26      1.72        725.0     1.776    3.795      395.225\n",
       "19 2018-04-27      1.72        732.0     1.772    2.920      406.195"
      ]
     },
     "execution_count": 12,
     "metadata": {},
     "output_type": "execute_result"
    }
   ],
   "source": [
    "data.head(20)"
   ]
  },
  {
   "cell_type": "code",
   "execution_count": 13,
   "metadata": {
    "id": "g7MqiZfqBTte"
   },
   "outputs": [],
   "source": [
    "data['Date'] = pd.to_datetime(data['Date'])\n",
    "rate['observation_date'] = pd.to_datetime(rate['observation_date'])\n",
    "\n",
    "# Merge by matching dates (left join keeps all rows from 'data')\n",
    "merged_df = data.merge(\n",
    "    rate[['observation_date', 'DFF']],\n",
    "    left_on='Date',\n",
    "    right_on='observation_date',\n",
    "    how='left'\n",
    ")\n",
    "\n",
    "# Drop redundant 'observation_date' column\n",
    "merged_df = merged_df.drop(columns=['observation_date'])"
   ]
  },
  {
   "cell_type": "code",
   "execution_count": 14,
   "metadata": {
    "colab": {
     "base_uri": "https://localhost:8080/",
     "height": 206
    },
    "id": "XwyMV_GEBY5e",
    "outputId": "00ef4bc3-d33c-40ea-cdc2-433659047cb5"
   },
   "outputs": [
    {
     "data": {
      "text/html": [
       "<div>\n",
       "<style scoped>\n",
       "    .dataframe tbody tr th:only-of-type {\n",
       "        vertical-align: middle;\n",
       "    }\n",
       "\n",
       "    .dataframe tbody tr th {\n",
       "        vertical-align: top;\n",
       "    }\n",
       "\n",
       "    .dataframe thead th {\n",
       "        text-align: right;\n",
       "    }\n",
       "</style>\n",
       "<table border=\"1\" class=\"dataframe\">\n",
       "  <thead>\n",
       "    <tr style=\"text-align: right;\">\n",
       "      <th></th>\n",
       "      <th>Date</th>\n",
       "      <th>SOFR Fix</th>\n",
       "      <th>SOFR Volume</th>\n",
       "      <th>DTCC Tsy</th>\n",
       "      <th>RRP Amt</th>\n",
       "      <th>TGA Balance</th>\n",
       "      <th>DFF</th>\n",
       "    </tr>\n",
       "  </thead>\n",
       "  <tbody>\n",
       "    <tr>\n",
       "      <th>0</th>\n",
       "      <td>2018-02-04</td>\n",
       "      <td>1.80</td>\n",
       "      <td>849.0</td>\n",
       "      <td>1.950</td>\n",
       "      <td>3.823</td>\n",
       "      <td>324.262</td>\n",
       "      <td>1.68</td>\n",
       "    </tr>\n",
       "    <tr>\n",
       "      <th>1</th>\n",
       "      <td>2018-03-04</td>\n",
       "      <td>1.83</td>\n",
       "      <td>825.0</td>\n",
       "      <td>1.930</td>\n",
       "      <td>8.695</td>\n",
       "      <td>299.702</td>\n",
       "      <td>1.69</td>\n",
       "    </tr>\n",
       "    <tr>\n",
       "      <th>2</th>\n",
       "      <td>2018-04-04</td>\n",
       "      <td>1.74</td>\n",
       "      <td>859.0</td>\n",
       "      <td>1.795</td>\n",
       "      <td>4.570</td>\n",
       "      <td>300.604</td>\n",
       "      <td>1.69</td>\n",
       "    </tr>\n",
       "    <tr>\n",
       "      <th>3</th>\n",
       "      <td>2018-05-04</td>\n",
       "      <td>1.75</td>\n",
       "      <td>829.0</td>\n",
       "      <td>1.830</td>\n",
       "      <td>4.645</td>\n",
       "      <td>292.669</td>\n",
       "      <td>1.69</td>\n",
       "    </tr>\n",
       "    <tr>\n",
       "      <th>4</th>\n",
       "      <td>2018-06-04</td>\n",
       "      <td>1.75</td>\n",
       "      <td>845.0</td>\n",
       "      <td>1.819</td>\n",
       "      <td>4.895</td>\n",
       "      <td>291.637</td>\n",
       "      <td>1.69</td>\n",
       "    </tr>\n",
       "  </tbody>\n",
       "</table>\n",
       "</div>"
      ],
      "text/plain": [
       "        Date  SOFR Fix  SOFR Volume  DTCC Tsy  RRP Amt  TGA Balance   DFF\n",
       "0 2018-02-04      1.80        849.0     1.950    3.823      324.262  1.68\n",
       "1 2018-03-04      1.83        825.0     1.930    8.695      299.702  1.69\n",
       "2 2018-04-04      1.74        859.0     1.795    4.570      300.604  1.69\n",
       "3 2018-05-04      1.75        829.0     1.830    4.645      292.669  1.69\n",
       "4 2018-06-04      1.75        845.0     1.819    4.895      291.637  1.69"
      ]
     },
     "execution_count": 14,
     "metadata": {},
     "output_type": "execute_result"
    }
   ],
   "source": [
    "merged_df.head()"
   ]
  },
  {
   "cell_type": "code",
   "execution_count": 15,
   "metadata": {
    "id": "dyXWjl-_46-F"
   },
   "outputs": [],
   "source": [
    "import pandas as pd\n",
    "\n",
    "# Ensure both date columns are datetime type\n",
    "data['Date'] = pd.to_datetime(data['Date'])\n",
    "rate['observation_date'] = pd.to_datetime(rate['observation_date'])\n",
    "\n",
    "# Merge by matching dates (left join keeps all rows from 'data')\n",
    "merged_df = data.merge(\n",
    "    rate[['observation_date', 'DFF']],\n",
    "    left_on='Date',\n",
    "    right_on='observation_date',\n",
    "    how='left'\n",
    ")\n",
    "\n",
    "# Drop redundant 'observation_date' column\n",
    "df = merged_df.drop(columns=['observation_date'])\n"
   ]
  },
  {
   "cell_type": "code",
   "execution_count": 16,
   "metadata": {
    "colab": {
     "base_uri": "https://localhost:8080/",
     "height": 206
    },
    "id": "wEXZ-YB36f_2",
    "outputId": "76ab54b5-65cc-4177-8552-19f717945552"
   },
   "outputs": [
    {
     "data": {
      "text/html": [
       "<div>\n",
       "<style scoped>\n",
       "    .dataframe tbody tr th:only-of-type {\n",
       "        vertical-align: middle;\n",
       "    }\n",
       "\n",
       "    .dataframe tbody tr th {\n",
       "        vertical-align: top;\n",
       "    }\n",
       "\n",
       "    .dataframe thead th {\n",
       "        text-align: right;\n",
       "    }\n",
       "</style>\n",
       "<table border=\"1\" class=\"dataframe\">\n",
       "  <thead>\n",
       "    <tr style=\"text-align: right;\">\n",
       "      <th></th>\n",
       "      <th>Date</th>\n",
       "      <th>SOFR Fix</th>\n",
       "      <th>SOFR Volume</th>\n",
       "      <th>DTCC Tsy</th>\n",
       "      <th>RRP Amt</th>\n",
       "      <th>TGA Balance</th>\n",
       "      <th>DFF</th>\n",
       "    </tr>\n",
       "  </thead>\n",
       "  <tbody>\n",
       "    <tr>\n",
       "      <th>0</th>\n",
       "      <td>2018-02-04</td>\n",
       "      <td>1.80</td>\n",
       "      <td>849.0</td>\n",
       "      <td>1.950</td>\n",
       "      <td>3.823</td>\n",
       "      <td>324.262</td>\n",
       "      <td>1.68</td>\n",
       "    </tr>\n",
       "    <tr>\n",
       "      <th>1</th>\n",
       "      <td>2018-03-04</td>\n",
       "      <td>1.83</td>\n",
       "      <td>825.0</td>\n",
       "      <td>1.930</td>\n",
       "      <td>8.695</td>\n",
       "      <td>299.702</td>\n",
       "      <td>1.69</td>\n",
       "    </tr>\n",
       "    <tr>\n",
       "      <th>2</th>\n",
       "      <td>2018-04-04</td>\n",
       "      <td>1.74</td>\n",
       "      <td>859.0</td>\n",
       "      <td>1.795</td>\n",
       "      <td>4.570</td>\n",
       "      <td>300.604</td>\n",
       "      <td>1.69</td>\n",
       "    </tr>\n",
       "    <tr>\n",
       "      <th>3</th>\n",
       "      <td>2018-05-04</td>\n",
       "      <td>1.75</td>\n",
       "      <td>829.0</td>\n",
       "      <td>1.830</td>\n",
       "      <td>4.645</td>\n",
       "      <td>292.669</td>\n",
       "      <td>1.69</td>\n",
       "    </tr>\n",
       "    <tr>\n",
       "      <th>4</th>\n",
       "      <td>2018-06-04</td>\n",
       "      <td>1.75</td>\n",
       "      <td>845.0</td>\n",
       "      <td>1.819</td>\n",
       "      <td>4.895</td>\n",
       "      <td>291.637</td>\n",
       "      <td>1.69</td>\n",
       "    </tr>\n",
       "  </tbody>\n",
       "</table>\n",
       "</div>"
      ],
      "text/plain": [
       "        Date  SOFR Fix  SOFR Volume  DTCC Tsy  RRP Amt  TGA Balance   DFF\n",
       "0 2018-02-04      1.80        849.0     1.950    3.823      324.262  1.68\n",
       "1 2018-03-04      1.83        825.0     1.930    8.695      299.702  1.69\n",
       "2 2018-04-04      1.74        859.0     1.795    4.570      300.604  1.69\n",
       "3 2018-05-04      1.75        829.0     1.830    4.645      292.669  1.69\n",
       "4 2018-06-04      1.75        845.0     1.819    4.895      291.637  1.69"
      ]
     },
     "execution_count": 16,
     "metadata": {},
     "output_type": "execute_result"
    }
   ],
   "source": [
    "df.head()"
   ]
  },
  {
   "cell_type": "code",
   "execution_count": 17,
   "metadata": {
    "id": "k1rZYk1MTUgg"
   },
   "outputs": [],
   "source": [
    "# data['Date'] = range(1, len(data) + 1)\n",
    "# df['SOFR_lag1'] = df['SOFR Fix'].shift(1)\n",
    "# df['SOFR_lag2'] = df['SOFR Fix'].shift(2)\n",
    "# df['SOFR_lag3'] = df['SOFR Fix'].shift(3)\n",
    "# df['SOFR_lag4'] = df['SOFR Fix'].shift(4)\n",
    "# df['SOFR_lag5'] = df['SOFR Fix'].shift(5)"
   ]
  },
  {
   "cell_type": "code",
   "execution_count": 18,
   "metadata": {
    "colab": {
     "base_uri": "https://localhost:8080/",
     "height": 303
    },
    "id": "6yS1aNQIKInG",
    "outputId": "5accdbb5-87a7-475f-cc09-745497d15c36"
   },
   "outputs": [
    {
     "data": {
      "text/plain": [
       "Date           0\n",
       "SOFR Fix       0\n",
       "SOFR Volume    0\n",
       "DTCC Tsy       0\n",
       "RRP Amt        0\n",
       "TGA Balance    0\n",
       "DFF            0\n",
       "dtype: int64"
      ]
     },
     "execution_count": 18,
     "metadata": {},
     "output_type": "execute_result"
    }
   ],
   "source": [
    "df.isnull().sum()"
   ]
  },
  {
   "cell_type": "code",
   "execution_count": 19,
   "metadata": {
    "colab": {
     "base_uri": "https://localhost:8080/",
     "height": 363
    },
    "id": "5Po3HVtxTlVi",
    "outputId": "e51fb600-6e6f-464f-c192-54307a9d13ee"
   },
   "outputs": [
    {
     "data": {
      "text/html": [
       "<div>\n",
       "<style scoped>\n",
       "    .dataframe tbody tr th:only-of-type {\n",
       "        vertical-align: middle;\n",
       "    }\n",
       "\n",
       "    .dataframe tbody tr th {\n",
       "        vertical-align: top;\n",
       "    }\n",
       "\n",
       "    .dataframe thead th {\n",
       "        text-align: right;\n",
       "    }\n",
       "</style>\n",
       "<table border=\"1\" class=\"dataframe\">\n",
       "  <thead>\n",
       "    <tr style=\"text-align: right;\">\n",
       "      <th></th>\n",
       "      <th>Date</th>\n",
       "      <th>SOFR Fix</th>\n",
       "      <th>SOFR Volume</th>\n",
       "      <th>DTCC Tsy</th>\n",
       "      <th>RRP Amt</th>\n",
       "      <th>TGA Balance</th>\n",
       "      <th>DFF</th>\n",
       "    </tr>\n",
       "  </thead>\n",
       "  <tbody>\n",
       "    <tr>\n",
       "      <th>0</th>\n",
       "      <td>2018-02-04</td>\n",
       "      <td>1.80</td>\n",
       "      <td>849.0</td>\n",
       "      <td>1.950</td>\n",
       "      <td>3.823</td>\n",
       "      <td>324.262</td>\n",
       "      <td>1.68</td>\n",
       "    </tr>\n",
       "    <tr>\n",
       "      <th>1</th>\n",
       "      <td>2018-03-04</td>\n",
       "      <td>1.83</td>\n",
       "      <td>825.0</td>\n",
       "      <td>1.930</td>\n",
       "      <td>8.695</td>\n",
       "      <td>299.702</td>\n",
       "      <td>1.69</td>\n",
       "    </tr>\n",
       "    <tr>\n",
       "      <th>2</th>\n",
       "      <td>2018-04-04</td>\n",
       "      <td>1.74</td>\n",
       "      <td>859.0</td>\n",
       "      <td>1.795</td>\n",
       "      <td>4.570</td>\n",
       "      <td>300.604</td>\n",
       "      <td>1.69</td>\n",
       "    </tr>\n",
       "    <tr>\n",
       "      <th>3</th>\n",
       "      <td>2018-05-04</td>\n",
       "      <td>1.75</td>\n",
       "      <td>829.0</td>\n",
       "      <td>1.830</td>\n",
       "      <td>4.645</td>\n",
       "      <td>292.669</td>\n",
       "      <td>1.69</td>\n",
       "    </tr>\n",
       "    <tr>\n",
       "      <th>4</th>\n",
       "      <td>2018-06-04</td>\n",
       "      <td>1.75</td>\n",
       "      <td>845.0</td>\n",
       "      <td>1.819</td>\n",
       "      <td>4.895</td>\n",
       "      <td>291.637</td>\n",
       "      <td>1.69</td>\n",
       "    </tr>\n",
       "    <tr>\n",
       "      <th>5</th>\n",
       "      <td>2018-09-04</td>\n",
       "      <td>1.75</td>\n",
       "      <td>833.0</td>\n",
       "      <td>1.834</td>\n",
       "      <td>4.070</td>\n",
       "      <td>301.022</td>\n",
       "      <td>1.69</td>\n",
       "    </tr>\n",
       "    <tr>\n",
       "      <th>6</th>\n",
       "      <td>2018-10-04</td>\n",
       "      <td>1.75</td>\n",
       "      <td>811.0</td>\n",
       "      <td>1.825</td>\n",
       "      <td>3.990</td>\n",
       "      <td>302.176</td>\n",
       "      <td>1.69</td>\n",
       "    </tr>\n",
       "    <tr>\n",
       "      <th>7</th>\n",
       "      <td>2018-11-04</td>\n",
       "      <td>1.76</td>\n",
       "      <td>811.0</td>\n",
       "      <td>1.823</td>\n",
       "      <td>2.361</td>\n",
       "      <td>287.804</td>\n",
       "      <td>1.69</td>\n",
       "    </tr>\n",
       "    <tr>\n",
       "      <th>8</th>\n",
       "      <td>2018-12-04</td>\n",
       "      <td>1.73</td>\n",
       "      <td>871.0</td>\n",
       "      <td>1.786</td>\n",
       "      <td>4.120</td>\n",
       "      <td>225.320</td>\n",
       "      <td>1.69</td>\n",
       "    </tr>\n",
       "    <tr>\n",
       "      <th>9</th>\n",
       "      <td>2018-04-13</td>\n",
       "      <td>1.72</td>\n",
       "      <td>776.0</td>\n",
       "      <td>1.796</td>\n",
       "      <td>3.471</td>\n",
       "      <td>245.560</td>\n",
       "      <td>1.69</td>\n",
       "    </tr>\n",
       "  </tbody>\n",
       "</table>\n",
       "</div>"
      ],
      "text/plain": [
       "        Date  SOFR Fix  SOFR Volume  DTCC Tsy  RRP Amt  TGA Balance   DFF\n",
       "0 2018-02-04      1.80        849.0     1.950    3.823      324.262  1.68\n",
       "1 2018-03-04      1.83        825.0     1.930    8.695      299.702  1.69\n",
       "2 2018-04-04      1.74        859.0     1.795    4.570      300.604  1.69\n",
       "3 2018-05-04      1.75        829.0     1.830    4.645      292.669  1.69\n",
       "4 2018-06-04      1.75        845.0     1.819    4.895      291.637  1.69\n",
       "5 2018-09-04      1.75        833.0     1.834    4.070      301.022  1.69\n",
       "6 2018-10-04      1.75        811.0     1.825    3.990      302.176  1.69\n",
       "7 2018-11-04      1.76        811.0     1.823    2.361      287.804  1.69\n",
       "8 2018-12-04      1.73        871.0     1.786    4.120      225.320  1.69\n",
       "9 2018-04-13      1.72        776.0     1.796    3.471      245.560  1.69"
      ]
     },
     "execution_count": 19,
     "metadata": {},
     "output_type": "execute_result"
    }
   ],
   "source": [
    "df.head(10)"
   ]
  },
  {
   "cell_type": "code",
   "execution_count": 20,
   "metadata": {
    "id": "rufX1N25O7hV"
   },
   "outputs": [],
   "source": [
    "df['Date'] = pd.to_datetime(df['Date'], format='%Y/%d/%m', errors='coerce')\n",
    "\n",
    "# 2) Extract day, year, month\n",
    "df['day'] = df['Date'].dt.day\n",
    "df['year'] = df['Date'].dt.year\n",
    "df['month'] = df['Date'].dt.month\n",
    "\n",
    "# 3) Month cyclical encoding\n",
    "df['month_sin'] = np.sin(2 * np.pi * df['month'] / 12)\n",
    "df['month_cos'] = np.cos(2 * np.pi * df['month'] / 12)\n",
    "\n",
    "# 4) Day of week (dow) cyclical encoding\n",
    "df['dow'] = df['Date'].dt.dayofweek  # Monday=0, Sunday=6\n",
    "df['dow_sin'] = np.sin(2 * np.pi * df['dow'] / 7)\n",
    "df['dow_cos'] = np.cos(2 * np.pi * df['dow'] / 7)\n",
    "\n",
    "# 5) Week of year (1-52 or 53)\n",
    "df['weekofyear'] = df['Date'].dt.isocalendar().week\n",
    "\n",
    "# 6) Quarter (1-4)\n",
    "df['quarter'] = df['Date'].dt.quarter\n",
    "\n",
    "# 7) Month-end, quarter-end, year-end flags\n",
    "df['month_end_flag'] = df['Date'].dt.is_month_end.astype(int)\n",
    "df['quarter_end_flag'] = df['Date'].dt.is_quarter_end.astype(int)\n",
    "df['year_end_flag'] = df['Date'].dt.is_year_end.astype(int)\n",
    "\n",
    "# 8) Drop original Date column\n",
    "df = df.drop(columns=['Date'])\n",
    "\n"
   ]
  },
  {
   "cell_type": "code",
   "execution_count": 21,
   "metadata": {
    "colab": {
     "base_uri": "https://localhost:8080/",
     "height": 363
    },
    "id": "_PgvAfurPHwl",
    "outputId": "3d7e13e7-06e9-46bb-ebca-59e108da28ca"
   },
   "outputs": [
    {
     "data": {
      "text/html": [
       "<div>\n",
       "<style scoped>\n",
       "    .dataframe tbody tr th:only-of-type {\n",
       "        vertical-align: middle;\n",
       "    }\n",
       "\n",
       "    .dataframe tbody tr th {\n",
       "        vertical-align: top;\n",
       "    }\n",
       "\n",
       "    .dataframe thead th {\n",
       "        text-align: right;\n",
       "    }\n",
       "</style>\n",
       "<table border=\"1\" class=\"dataframe\">\n",
       "  <thead>\n",
       "    <tr style=\"text-align: right;\">\n",
       "      <th></th>\n",
       "      <th>SOFR Fix</th>\n",
       "      <th>SOFR Volume</th>\n",
       "      <th>DTCC Tsy</th>\n",
       "      <th>RRP Amt</th>\n",
       "      <th>TGA Balance</th>\n",
       "      <th>DFF</th>\n",
       "      <th>day</th>\n",
       "      <th>year</th>\n",
       "      <th>month</th>\n",
       "      <th>month_sin</th>\n",
       "      <th>month_cos</th>\n",
       "      <th>dow</th>\n",
       "      <th>dow_sin</th>\n",
       "      <th>dow_cos</th>\n",
       "      <th>weekofyear</th>\n",
       "      <th>quarter</th>\n",
       "      <th>month_end_flag</th>\n",
       "      <th>quarter_end_flag</th>\n",
       "      <th>year_end_flag</th>\n",
       "    </tr>\n",
       "  </thead>\n",
       "  <tbody>\n",
       "    <tr>\n",
       "      <th>1863</th>\n",
       "      <td>4.28</td>\n",
       "      <td>2644.0</td>\n",
       "      <td>4.340</td>\n",
       "      <td>168.645</td>\n",
       "      <td>288.078</td>\n",
       "      <td>4.33</td>\n",
       "      <td>13</td>\n",
       "      <td>2025</td>\n",
       "      <td>6</td>\n",
       "      <td>1.224647e-16</td>\n",
       "      <td>-1.0</td>\n",
       "      <td>4</td>\n",
       "      <td>-0.433884</td>\n",
       "      <td>-0.900969</td>\n",
       "      <td>24</td>\n",
       "      <td>2</td>\n",
       "      <td>0</td>\n",
       "      <td>0</td>\n",
       "      <td>0</td>\n",
       "    </tr>\n",
       "    <tr>\n",
       "      <th>1864</th>\n",
       "      <td>4.32</td>\n",
       "      <td>2697.0</td>\n",
       "      <td>4.380</td>\n",
       "      <td>140.759</td>\n",
       "      <td>446.302</td>\n",
       "      <td>4.33</td>\n",
       "      <td>16</td>\n",
       "      <td>2025</td>\n",
       "      <td>6</td>\n",
       "      <td>1.224647e-16</td>\n",
       "      <td>-1.0</td>\n",
       "      <td>0</td>\n",
       "      <td>0.000000</td>\n",
       "      <td>1.000000</td>\n",
       "      <td>25</td>\n",
       "      <td>2</td>\n",
       "      <td>0</td>\n",
       "      <td>0</td>\n",
       "      <td>0</td>\n",
       "    </tr>\n",
       "    <tr>\n",
       "      <th>1865</th>\n",
       "      <td>4.31</td>\n",
       "      <td>2692.0</td>\n",
       "      <td>4.360</td>\n",
       "      <td>168.939</td>\n",
       "      <td>409.139</td>\n",
       "      <td>4.33</td>\n",
       "      <td>17</td>\n",
       "      <td>2025</td>\n",
       "      <td>6</td>\n",
       "      <td>1.224647e-16</td>\n",
       "      <td>-1.0</td>\n",
       "      <td>1</td>\n",
       "      <td>0.781831</td>\n",
       "      <td>0.623490</td>\n",
       "      <td>25</td>\n",
       "      <td>2</td>\n",
       "      <td>0</td>\n",
       "      <td>0</td>\n",
       "      <td>0</td>\n",
       "    </tr>\n",
       "    <tr>\n",
       "      <th>1866</th>\n",
       "      <td>4.28</td>\n",
       "      <td>2639.0</td>\n",
       "      <td>4.329</td>\n",
       "      <td>205.050</td>\n",
       "      <td>383.851</td>\n",
       "      <td>4.33</td>\n",
       "      <td>18</td>\n",
       "      <td>2025</td>\n",
       "      <td>6</td>\n",
       "      <td>1.224647e-16</td>\n",
       "      <td>-1.0</td>\n",
       "      <td>2</td>\n",
       "      <td>0.974928</td>\n",
       "      <td>-0.222521</td>\n",
       "      <td>25</td>\n",
       "      <td>2</td>\n",
       "      <td>0</td>\n",
       "      <td>0</td>\n",
       "      <td>0</td>\n",
       "    </tr>\n",
       "    <tr>\n",
       "      <th>1867</th>\n",
       "      <td>4.29</td>\n",
       "      <td>2700.0</td>\n",
       "      <td>4.331</td>\n",
       "      <td>138.283</td>\n",
       "      <td>366.520</td>\n",
       "      <td>4.33</td>\n",
       "      <td>20</td>\n",
       "      <td>2025</td>\n",
       "      <td>6</td>\n",
       "      <td>1.224647e-16</td>\n",
       "      <td>-1.0</td>\n",
       "      <td>4</td>\n",
       "      <td>-0.433884</td>\n",
       "      <td>-0.900969</td>\n",
       "      <td>25</td>\n",
       "      <td>2</td>\n",
       "      <td>0</td>\n",
       "      <td>0</td>\n",
       "      <td>0</td>\n",
       "    </tr>\n",
       "    <tr>\n",
       "      <th>1868</th>\n",
       "      <td>4.29</td>\n",
       "      <td>2740.0</td>\n",
       "      <td>4.343</td>\n",
       "      <td>165.319</td>\n",
       "      <td>374.568</td>\n",
       "      <td>4.33</td>\n",
       "      <td>23</td>\n",
       "      <td>2025</td>\n",
       "      <td>6</td>\n",
       "      <td>1.224647e-16</td>\n",
       "      <td>-1.0</td>\n",
       "      <td>0</td>\n",
       "      <td>0.000000</td>\n",
       "      <td>1.000000</td>\n",
       "      <td>26</td>\n",
       "      <td>2</td>\n",
       "      <td>0</td>\n",
       "      <td>0</td>\n",
       "      <td>0</td>\n",
       "    </tr>\n",
       "    <tr>\n",
       "      <th>1869</th>\n",
       "      <td>4.36</td>\n",
       "      <td>2772.0</td>\n",
       "      <td>4.408</td>\n",
       "      <td>210.879</td>\n",
       "      <td>334.579</td>\n",
       "      <td>4.33</td>\n",
       "      <td>25</td>\n",
       "      <td>2025</td>\n",
       "      <td>6</td>\n",
       "      <td>1.224647e-16</td>\n",
       "      <td>-1.0</td>\n",
       "      <td>2</td>\n",
       "      <td>0.974928</td>\n",
       "      <td>-0.222521</td>\n",
       "      <td>26</td>\n",
       "      <td>2</td>\n",
       "      <td>0</td>\n",
       "      <td>0</td>\n",
       "      <td>0</td>\n",
       "    </tr>\n",
       "    <tr>\n",
       "      <th>1870</th>\n",
       "      <td>4.40</td>\n",
       "      <td>2802.0</td>\n",
       "      <td>4.412</td>\n",
       "      <td>252.400</td>\n",
       "      <td>304.841</td>\n",
       "      <td>4.33</td>\n",
       "      <td>26</td>\n",
       "      <td>2025</td>\n",
       "      <td>6</td>\n",
       "      <td>1.224647e-16</td>\n",
       "      <td>-1.0</td>\n",
       "      <td>3</td>\n",
       "      <td>0.433884</td>\n",
       "      <td>-0.900969</td>\n",
       "      <td>26</td>\n",
       "      <td>2</td>\n",
       "      <td>0</td>\n",
       "      <td>0</td>\n",
       "      <td>0</td>\n",
       "    </tr>\n",
       "    <tr>\n",
       "      <th>1871</th>\n",
       "      <td>4.39</td>\n",
       "      <td>2775.0</td>\n",
       "      <td>4.405</td>\n",
       "      <td>285.742</td>\n",
       "      <td>338.348</td>\n",
       "      <td>4.33</td>\n",
       "      <td>27</td>\n",
       "      <td>2025</td>\n",
       "      <td>6</td>\n",
       "      <td>1.224647e-16</td>\n",
       "      <td>-1.0</td>\n",
       "      <td>4</td>\n",
       "      <td>-0.433884</td>\n",
       "      <td>-0.900969</td>\n",
       "      <td>26</td>\n",
       "      <td>2</td>\n",
       "      <td>0</td>\n",
       "      <td>0</td>\n",
       "      <td>0</td>\n",
       "    </tr>\n",
       "    <tr>\n",
       "      <th>1872</th>\n",
       "      <td>4.45</td>\n",
       "      <td>2964.0</td>\n",
       "      <td>4.574</td>\n",
       "      <td>460.731</td>\n",
       "      <td>245.530</td>\n",
       "      <td>4.33</td>\n",
       "      <td>30</td>\n",
       "      <td>2025</td>\n",
       "      <td>6</td>\n",
       "      <td>1.224647e-16</td>\n",
       "      <td>-1.0</td>\n",
       "      <td>0</td>\n",
       "      <td>0.000000</td>\n",
       "      <td>1.000000</td>\n",
       "      <td>27</td>\n",
       "      <td>2</td>\n",
       "      <td>1</td>\n",
       "      <td>1</td>\n",
       "      <td>0</td>\n",
       "    </tr>\n",
       "  </tbody>\n",
       "</table>\n",
       "</div>"
      ],
      "text/plain": [
       "      SOFR Fix  SOFR Volume  DTCC Tsy  RRP Amt  TGA Balance   DFF  day  year  \\\n",
       "1863      4.28       2644.0     4.340  168.645      288.078  4.33   13  2025   \n",
       "1864      4.32       2697.0     4.380  140.759      446.302  4.33   16  2025   \n",
       "1865      4.31       2692.0     4.360  168.939      409.139  4.33   17  2025   \n",
       "1866      4.28       2639.0     4.329  205.050      383.851  4.33   18  2025   \n",
       "1867      4.29       2700.0     4.331  138.283      366.520  4.33   20  2025   \n",
       "1868      4.29       2740.0     4.343  165.319      374.568  4.33   23  2025   \n",
       "1869      4.36       2772.0     4.408  210.879      334.579  4.33   25  2025   \n",
       "1870      4.40       2802.0     4.412  252.400      304.841  4.33   26  2025   \n",
       "1871      4.39       2775.0     4.405  285.742      338.348  4.33   27  2025   \n",
       "1872      4.45       2964.0     4.574  460.731      245.530  4.33   30  2025   \n",
       "\n",
       "      month     month_sin  month_cos  dow   dow_sin   dow_cos  weekofyear  \\\n",
       "1863      6  1.224647e-16       -1.0    4 -0.433884 -0.900969          24   \n",
       "1864      6  1.224647e-16       -1.0    0  0.000000  1.000000          25   \n",
       "1865      6  1.224647e-16       -1.0    1  0.781831  0.623490          25   \n",
       "1866      6  1.224647e-16       -1.0    2  0.974928 -0.222521          25   \n",
       "1867      6  1.224647e-16       -1.0    4 -0.433884 -0.900969          25   \n",
       "1868      6  1.224647e-16       -1.0    0  0.000000  1.000000          26   \n",
       "1869      6  1.224647e-16       -1.0    2  0.974928 -0.222521          26   \n",
       "1870      6  1.224647e-16       -1.0    3  0.433884 -0.900969          26   \n",
       "1871      6  1.224647e-16       -1.0    4 -0.433884 -0.900969          26   \n",
       "1872      6  1.224647e-16       -1.0    0  0.000000  1.000000          27   \n",
       "\n",
       "      quarter  month_end_flag  quarter_end_flag  year_end_flag  \n",
       "1863        2               0                 0              0  \n",
       "1864        2               0                 0              0  \n",
       "1865        2               0                 0              0  \n",
       "1866        2               0                 0              0  \n",
       "1867        2               0                 0              0  \n",
       "1868        2               0                 0              0  \n",
       "1869        2               0                 0              0  \n",
       "1870        2               0                 0              0  \n",
       "1871        2               0                 0              0  \n",
       "1872        2               1                 1              0  "
      ]
     },
     "execution_count": 21,
     "metadata": {},
     "output_type": "execute_result"
    }
   ],
   "source": [
    "df.tail(10)"
   ]
  },
  {
   "cell_type": "code",
   "execution_count": 22,
   "metadata": {
    "colab": {
     "base_uri": "https://localhost:8080/",
     "height": 657
    },
    "id": "d1s_3VE8UBSJ",
    "outputId": "5a19fda5-a5c2-440c-ce17-0ec8a11aaf13"
   },
   "outputs": [
    {
     "name": "stderr",
     "output_type": "stream",
     "text": [
      "C:\\Users\\Yash Singhal\\AppData\\Local\\Temp\\ipykernel_21064\\1061452019.py:1: UserWarning: \n",
      "\n",
      "`distplot` is a deprecated function and will be removed in seaborn v0.14.0.\n",
      "\n",
      "Please adapt your code to use either `displot` (a figure-level function with\n",
      "similar flexibility) or `histplot` (an axes-level function for histograms).\n",
      "\n",
      "For a guide to updating your code to use the new functions, please see\n",
      "https://gist.github.com/mwaskom/de44147ed2974457ad6372750bbe5751\n",
      "\n",
      "  sns.distplot(df['SOFR Fix'])\n"
     ]
    },
    {
     "name": "stdout",
     "output_type": "stream",
     "text": [
      "0.16161546961181603\n"
     ]
    },
    {
     "data": {
      "image/png": "[encoded data removed]",
      "text/plain": [
       "<Figure size 640x480 with 1 Axes>"
      ]
     },
     "metadata": {},
     "output_type": "display_data"
    }
   ],
   "source": [
    "sns.distplot(df['SOFR Fix'])\n",
    "print(df['SOFR Fix'].skew())"
   ]
  },
  {
   "cell_type": "code",
   "execution_count": 23,
   "metadata": {
    "colab": {
     "base_uri": "https://localhost:8080/",
     "height": 657
    },
    "id": "V5pdS808VC-R",
    "outputId": "07719600-46f9-4e1b-f729-e656270610c1"
   },
   "outputs": [
    {
     "name": "stdout",
     "output_type": "stream",
     "text": [
      "1.3881654049230205\n"
     ]
    },
    {
     "name": "stderr",
     "output_type": "stream",
     "text": [
      "C:\\Users\\Yash Singhal\\AppData\\Local\\Temp\\ipykernel_21064\\1952875412.py:1: UserWarning: \n",
      "\n",
      "`distplot` is a deprecated function and will be removed in seaborn v0.14.0.\n",
      "\n",
      "Please adapt your code to use either `displot` (a figure-level function with\n",
      "similar flexibility) or `histplot` (an axes-level function for histograms).\n",
      "\n",
      "For a guide to updating your code to use the new functions, please see\n",
      "https://gist.github.com/mwaskom/de44147ed2974457ad6372750bbe5751\n",
      "\n",
      "  sns.distplot(df['SOFR Volume'])\n"
     ]
    },
    {
     "data": {
      "image/png": "[encoded data removed]",
      "text/plain": [
       "<Figure size 640x480 with 1 Axes>"
      ]
     },
     "metadata": {},
     "output_type": "display_data"
    }
   ],
   "source": [
    "sns.distplot(df['SOFR Volume'])\n",
    "print(df['SOFR Volume'].skew())"
   ]
  },
  {
   "cell_type": "code",
   "execution_count": 24,
   "metadata": {
    "colab": {
     "base_uri": "https://localhost:8080/",
     "height": 657
    },
    "id": "f-unflXgVKVB",
    "outputId": "2e98d89f-48a6-4750-b640-09b2f4497fa8"
   },
   "outputs": [
    {
     "name": "stdout",
     "output_type": "stream",
     "text": [
      "0.1510650118544129\n"
     ]
    },
    {
     "name": "stderr",
     "output_type": "stream",
     "text": [
      "C:\\Users\\Yash Singhal\\AppData\\Local\\Temp\\ipykernel_21064\\626132318.py:1: UserWarning: \n",
      "\n",
      "`distplot` is a deprecated function and will be removed in seaborn v0.14.0.\n",
      "\n",
      "Please adapt your code to use either `displot` (a figure-level function with\n",
      "similar flexibility) or `histplot` (an axes-level function for histograms).\n",
      "\n",
      "For a guide to updating your code to use the new functions, please see\n",
      "https://gist.github.com/mwaskom/de44147ed2974457ad6372750bbe5751\n",
      "\n",
      "  sns.distplot(df['DTCC Tsy'])\n"
     ]
    },
    {
     "data": {
      "image/png": "[encoded data removed]",
      "text/plain": [
       "<Figure size 640x480 with 1 Axes>"
      ]
     },
     "metadata": {},
     "output_type": "display_data"
    }
   ],
   "source": [
    "sns.distplot(df['DTCC Tsy'])\n",
    "print(df['DTCC Tsy'].skew())"
   ]
  },
  {
   "cell_type": "code",
   "execution_count": 25,
   "metadata": {
    "colab": {
     "base_uri": "https://localhost:8080/",
     "height": 657
    },
    "id": "JmFOKPTEVm7B",
    "outputId": "ea2e5bb9-2188-47af-c7b9-085bd425ff06"
   },
   "outputs": [
    {
     "name": "stderr",
     "output_type": "stream",
     "text": [
      "C:\\Users\\Yash Singhal\\AppData\\Local\\Temp\\ipykernel_21064\\84510397.py:1: UserWarning: \n",
      "\n",
      "`distplot` is a deprecated function and will be removed in seaborn v0.14.0.\n",
      "\n",
      "Please adapt your code to use either `displot` (a figure-level function with\n",
      "similar flexibility) or `histplot` (an axes-level function for histograms).\n",
      "\n",
      "For a guide to updating your code to use the new functions, please see\n",
      "https://gist.github.com/mwaskom/de44147ed2974457ad6372750bbe5751\n",
      "\n",
      "  sns.distplot(df['RRP Amt'])\n"
     ]
    },
    {
     "name": "stdout",
     "output_type": "stream",
     "text": [
      "0.8259880034161988\n"
     ]
    },
    {
     "data": {
      "image/png": "[encoded data removed]",
      "text/plain": [
       "<Figure size 640x480 with 1 Axes>"
      ]
     },
     "metadata": {},
     "output_type": "display_data"
    }
   ],
   "source": [
    "sns.distplot(df['RRP Amt'])\n",
    "print(df['RRP Amt'].skew())"
   ]
  },
  {
   "cell_type": "code",
   "execution_count": 26,
   "metadata": {
    "colab": {
     "base_uri": "https://localhost:8080/",
     "height": 657
    },
    "id": "5Y04fSdjVppw",
    "outputId": "87198e47-ad6a-4670-b79f-2891590cc8f6"
   },
   "outputs": [
    {
     "name": "stderr",
     "output_type": "stream",
     "text": [
      "C:\\Users\\Yash Singhal\\AppData\\Local\\Temp\\ipykernel_21064\\1637397520.py:1: UserWarning: \n",
      "\n",
      "`distplot` is a deprecated function and will be removed in seaborn v0.14.0.\n",
      "\n",
      "Please adapt your code to use either `displot` (a figure-level function with\n",
      "similar flexibility) or `histplot` (an axes-level function for histograms).\n",
      "\n",
      "For a guide to updating your code to use the new functions, please see\n",
      "https://gist.github.com/mwaskom/de44147ed2974457ad6372750bbe5751\n",
      "\n",
      "  sns.distplot(df['TGA Balance'])\n"
     ]
    },
    {
     "name": "stdout",
     "output_type": "stream",
     "text": [
      "1.2099502707550547\n"
     ]
    },
    {
     "data": {
      "image/png": "[encoded data removed]",
      "text/plain": [
       "<Figure size 640x480 with 1 Axes>"
      ]
     },
     "metadata": {},
     "output_type": "display_data"
    }
   ],
   "source": [
    "sns.distplot(df['TGA Balance'])\n",
    "print(df['TGA Balance'].skew())"
   ]
  },
  {
   "cell_type": "code",
   "execution_count": null,
   "metadata": {
    "id": "SSd2a_8kWIYa"
   },
   "outputs": [],
   "source": []
  },
  {
   "cell_type": "code",
   "execution_count": 27,
   "metadata": {
    "id": "Yjrq7RAGV5qM"
   },
   "outputs": [],
   "source": [
    "n_total = len(df)\n",
    "n_train = int(0.7 * n_total)\n",
    "n_val = int(0.15 * n_total)\n",
    "n_test = n_total - n_train - n_val  # ensures it sums to total\n",
    "\n",
    "train_end_idx = n_train - 1\n",
    "val_end_idx = n_train + n_val - 1\n",
    "\n",
    "df_train = df.iloc[:train_end_idx + 1]\n",
    "df_val = df.iloc[train_end_idx + 1:val_end_idx + 1]\n",
    "df_test = df.iloc[val_end_idx + 1:]"
   ]
  },
  {
   "cell_type": "code",
   "execution_count": 28,
   "metadata": {
    "colab": {
     "base_uri": "https://localhost:8080/",
     "height": 206
    },
    "id": "1CKQHY6MS_Ng",
    "outputId": "b7fb391d-b997-42bb-e69c-805ce02be907"
   },
   "outputs": [
    {
     "data": {
      "text/html": [
       "<div>\n",
       "<style scoped>\n",
       "    .dataframe tbody tr th:only-of-type {\n",
       "        vertical-align: middle;\n",
       "    }\n",
       "\n",
       "    .dataframe tbody tr th {\n",
       "        vertical-align: top;\n",
       "    }\n",
       "\n",
       "    .dataframe thead th {\n",
       "        text-align: right;\n",
       "    }\n",
       "</style>\n",
       "<table border=\"1\" class=\"dataframe\">\n",
       "  <thead>\n",
       "    <tr style=\"text-align: right;\">\n",
       "      <th></th>\n",
       "      <th>SOFR Fix</th>\n",
       "      <th>SOFR Volume</th>\n",
       "      <th>DTCC Tsy</th>\n",
       "      <th>RRP Amt</th>\n",
       "      <th>TGA Balance</th>\n",
       "      <th>DFF</th>\n",
       "      <th>day</th>\n",
       "      <th>year</th>\n",
       "      <th>month</th>\n",
       "      <th>month_sin</th>\n",
       "      <th>month_cos</th>\n",
       "      <th>dow</th>\n",
       "      <th>dow_sin</th>\n",
       "      <th>dow_cos</th>\n",
       "      <th>weekofyear</th>\n",
       "      <th>quarter</th>\n",
       "      <th>month_end_flag</th>\n",
       "      <th>quarter_end_flag</th>\n",
       "      <th>year_end_flag</th>\n",
       "    </tr>\n",
       "  </thead>\n",
       "  <tbody>\n",
       "    <tr>\n",
       "      <th>1591</th>\n",
       "      <td>5.31</td>\n",
       "      <td>1816.0</td>\n",
       "      <td>5.346</td>\n",
       "      <td>486.434</td>\n",
       "      <td>795.161</td>\n",
       "      <td>4.83</td>\n",
       "      <td>10</td>\n",
       "      <td>2024</td>\n",
       "      <td>5</td>\n",
       "      <td>0.5</td>\n",
       "      <td>-0.866025</td>\n",
       "      <td>4</td>\n",
       "      <td>-0.433884</td>\n",
       "      <td>-0.900969</td>\n",
       "      <td>19</td>\n",
       "      <td>2</td>\n",
       "      <td>0</td>\n",
       "      <td>0</td>\n",
       "      <td>0</td>\n",
       "    </tr>\n",
       "    <tr>\n",
       "      <th>1592</th>\n",
       "      <td>5.31</td>\n",
       "      <td>1805.0</td>\n",
       "      <td>5.318</td>\n",
       "      <td>492.068</td>\n",
       "      <td>808.430</td>\n",
       "      <td>5.33</td>\n",
       "      <td>13</td>\n",
       "      <td>2024</td>\n",
       "      <td>5</td>\n",
       "      <td>0.5</td>\n",
       "      <td>-0.866025</td>\n",
       "      <td>0</td>\n",
       "      <td>0.000000</td>\n",
       "      <td>1.000000</td>\n",
       "      <td>20</td>\n",
       "      <td>2</td>\n",
       "      <td>0</td>\n",
       "      <td>0</td>\n",
       "      <td>0</td>\n",
       "    </tr>\n",
       "    <tr>\n",
       "      <th>1593</th>\n",
       "      <td>5.31</td>\n",
       "      <td>1838.0</td>\n",
       "      <td>5.348</td>\n",
       "      <td>468.344</td>\n",
       "      <td>805.661</td>\n",
       "      <td>5.33</td>\n",
       "      <td>14</td>\n",
       "      <td>2024</td>\n",
       "      <td>5</td>\n",
       "      <td>0.5</td>\n",
       "      <td>-0.866025</td>\n",
       "      <td>1</td>\n",
       "      <td>0.781831</td>\n",
       "      <td>0.623490</td>\n",
       "      <td>20</td>\n",
       "      <td>2</td>\n",
       "      <td>0</td>\n",
       "      <td>0</td>\n",
       "      <td>0</td>\n",
       "    </tr>\n",
       "    <tr>\n",
       "      <th>1594</th>\n",
       "      <td>5.31</td>\n",
       "      <td>1936.0</td>\n",
       "      <td>5.362</td>\n",
       "      <td>443.779</td>\n",
       "      <td>706.108</td>\n",
       "      <td>5.33</td>\n",
       "      <td>15</td>\n",
       "      <td>2024</td>\n",
       "      <td>5</td>\n",
       "      <td>0.5</td>\n",
       "      <td>-0.866025</td>\n",
       "      <td>2</td>\n",
       "      <td>0.974928</td>\n",
       "      <td>-0.222521</td>\n",
       "      <td>20</td>\n",
       "      <td>2</td>\n",
       "      <td>0</td>\n",
       "      <td>0</td>\n",
       "      <td>0</td>\n",
       "    </tr>\n",
       "    <tr>\n",
       "      <th>1595</th>\n",
       "      <td>5.31</td>\n",
       "      <td>2001.0</td>\n",
       "      <td>5.372</td>\n",
       "      <td>410.121</td>\n",
       "      <td>716.876</td>\n",
       "      <td>5.33</td>\n",
       "      <td>16</td>\n",
       "      <td>2024</td>\n",
       "      <td>5</td>\n",
       "      <td>0.5</td>\n",
       "      <td>-0.866025</td>\n",
       "      <td>3</td>\n",
       "      <td>0.433884</td>\n",
       "      <td>-0.900969</td>\n",
       "      <td>20</td>\n",
       "      <td>2</td>\n",
       "      <td>0</td>\n",
       "      <td>0</td>\n",
       "      <td>0</td>\n",
       "    </tr>\n",
       "  </tbody>\n",
       "</table>\n",
       "</div>"
      ],
      "text/plain": [
       "      SOFR Fix  SOFR Volume  DTCC Tsy  RRP Amt  TGA Balance   DFF  day  year  \\\n",
       "1591      5.31       1816.0     5.346  486.434      795.161  4.83   10  2024   \n",
       "1592      5.31       1805.0     5.318  492.068      808.430  5.33   13  2024   \n",
       "1593      5.31       1838.0     5.348  468.344      805.661  5.33   14  2024   \n",
       "1594      5.31       1936.0     5.362  443.779      706.108  5.33   15  2024   \n",
       "1595      5.31       2001.0     5.372  410.121      716.876  5.33   16  2024   \n",
       "\n",
       "      month  month_sin  month_cos  dow   dow_sin   dow_cos  weekofyear  \\\n",
       "1591      5        0.5  -0.866025    4 -0.433884 -0.900969          19   \n",
       "1592      5        0.5  -0.866025    0  0.000000  1.000000          20   \n",
       "1593      5        0.5  -0.866025    1  0.781831  0.623490          20   \n",
       "1594      5        0.5  -0.866025    2  0.974928 -0.222521          20   \n",
       "1595      5        0.5  -0.866025    3  0.433884 -0.900969          20   \n",
       "\n",
       "      quarter  month_end_flag  quarter_end_flag  year_end_flag  \n",
       "1591        2               0                 0              0  \n",
       "1592        2               0                 0              0  \n",
       "1593        2               0                 0              0  \n",
       "1594        2               0                 0              0  \n",
       "1595        2               0                 0              0  "
      ]
     },
     "execution_count": 28,
     "metadata": {},
     "output_type": "execute_result"
    }
   ],
   "source": [
    "df_test.head()"
   ]
  },
  {
   "cell_type": "code",
   "execution_count": 29,
   "metadata": {
    "colab": {
     "base_uri": "https://localhost:8080/",
     "height": 447
    },
    "id": "-wOsVpXwcICb",
    "outputId": "f489881b-2627-4f86-b48d-58d51e7aaa97"
   },
   "outputs": [
    {
     "data": {
      "text/plain": [
       "<Axes: ylabel='SOFR Fix'>"
      ]
     },
     "execution_count": 29,
     "metadata": {},
     "output_type": "execute_result"
    },
    {
     "data": {
      "image/png": "[encoded data removed]",
      "text/plain": [
       "<Figure size 640x480 with 1 Axes>"
      ]
     },
     "metadata": {},
     "output_type": "display_data"
    }
   ],
   "source": [
    "sns.lineplot(df_train['SOFR Fix'])"
   ]
  },
  {
   "cell_type": "code",
   "execution_count": 30,
   "metadata": {
    "colab": {
     "base_uri": "https://localhost:8080/"
    },
    "id": "dCY_IvzKNeZd",
    "outputId": "b20ec14f-a6d5-44c3-ead3-e2bffd627e85"
   },
   "outputs": [
    {
     "name": "stderr",
     "output_type": "stream",
     "text": [
      "C:\\Users\\Yash Singhal\\AppData\\Local\\Temp\\ipykernel_21064\\2120343100.py:4: SettingWithCopyWarning: \n",
      "A value is trying to be set on a copy of a slice from a DataFrame.\n",
      "Try using .loc[row_indexer,col_indexer] = value instead\n",
      "\n",
      "See the caveats in the documentation: https://pandas.pydata.org/pandas-docs/stable/user_guide/indexing.html#returning-a-view-versus-a-copy\n",
      "  df_train[cols_to_transform] = p.fit_transform(df_train[cols_to_transform])\n",
      "C:\\Users\\Yash Singhal\\AppData\\Local\\Temp\\ipykernel_21064\\2120343100.py:5: SettingWithCopyWarning: \n",
      "A value is trying to be set on a copy of a slice from a DataFrame.\n",
      "Try using .loc[row_indexer,col_indexer] = value instead\n",
      "\n",
      "See the caveats in the documentation: https://pandas.pydata.org/pandas-docs/stable/user_guide/indexing.html#returning-a-view-versus-a-copy\n",
      "  df_test[cols_to_transform] = p.transform(df_test[cols_to_transform])\n",
      "C:\\Users\\Yash Singhal\\AppData\\Local\\Temp\\ipykernel_21064\\2120343100.py:6: SettingWithCopyWarning: \n",
      "A value is trying to be set on a copy of a slice from a DataFrame.\n",
      "Try using .loc[row_indexer,col_indexer] = value instead\n",
      "\n",
      "See the caveats in the documentation: https://pandas.pydata.org/pandas-docs/stable/user_guide/indexing.html#returning-a-view-versus-a-copy\n",
      "  df_val[cols_to_transform] = p.transform(df_val[cols_to_transform])\n"
     ]
    }
   ],
   "source": [
    "p=PowerTransformer(method='yeo-johnson')\n",
    "cols_to_transform = ['SOFR Volume', 'RRP Amt', 'TGA Balance']\n",
    "\n",
    "df_train[cols_to_transform] = p.fit_transform(df_train[cols_to_transform])\n",
    "df_test[cols_to_transform] = p.transform(df_test[cols_to_transform])\n",
    "df_val[cols_to_transform] = p.transform(df_val[cols_to_transform])"
   ]
  },
  {
   "cell_type": "code",
   "execution_count": 31,
   "metadata": {
    "colab": {
     "base_uri": "https://localhost:8080/",
     "height": 206
    },
    "id": "zGXwRkZFTsZQ",
    "outputId": "f00eb55f-e185-4316-f203-5261962d494e"
   },
   "outputs": [
    {
     "data": {
      "text/html": [
       "<div>\n",
       "<style scoped>\n",
       "    .dataframe tbody tr th:only-of-type {\n",
       "        vertical-align: middle;\n",
       "    }\n",
       "\n",
       "    .dataframe tbody tr th {\n",
       "        vertical-align: top;\n",
       "    }\n",
       "\n",
       "    .dataframe thead th {\n",
       "        text-align: right;\n",
       "    }\n",
       "</style>\n",
       "<table border=\"1\" class=\"dataframe\">\n",
       "  <thead>\n",
       "    <tr style=\"text-align: right;\">\n",
       "      <th></th>\n",
       "      <th>SOFR Fix</th>\n",
       "      <th>SOFR Volume</th>\n",
       "      <th>DTCC Tsy</th>\n",
       "      <th>RRP Amt</th>\n",
       "      <th>TGA Balance</th>\n",
       "      <th>DFF</th>\n",
       "      <th>day</th>\n",
       "      <th>year</th>\n",
       "      <th>month</th>\n",
       "      <th>month_sin</th>\n",
       "      <th>month_cos</th>\n",
       "      <th>dow</th>\n",
       "      <th>dow_sin</th>\n",
       "      <th>dow_cos</th>\n",
       "      <th>weekofyear</th>\n",
       "      <th>quarter</th>\n",
       "      <th>month_end_flag</th>\n",
       "      <th>quarter_end_flag</th>\n",
       "      <th>year_end_flag</th>\n",
       "    </tr>\n",
       "  </thead>\n",
       "  <tbody>\n",
       "    <tr>\n",
       "      <th>1311</th>\n",
       "      <td>4.8</td>\n",
       "      <td>2.409333</td>\n",
       "      <td>4.846</td>\n",
       "      <td>1.267047</td>\n",
       "      <td>-2.186944</td>\n",
       "      <td>4.83</td>\n",
       "      <td>4</td>\n",
       "      <td>2023</td>\n",
       "      <td>11</td>\n",
       "      <td>-5.000000e-01</td>\n",
       "      <td>0.866025</td>\n",
       "      <td>5</td>\n",
       "      <td>-0.974928</td>\n",
       "      <td>-0.222521</td>\n",
       "      <td>44</td>\n",
       "      <td>4</td>\n",
       "      <td>0</td>\n",
       "      <td>0</td>\n",
       "      <td>0</td>\n",
       "    </tr>\n",
       "    <tr>\n",
       "      <th>1312</th>\n",
       "      <td>4.8</td>\n",
       "      <td>2.378792</td>\n",
       "      <td>4.822</td>\n",
       "      <td>1.267681</td>\n",
       "      <td>-2.502758</td>\n",
       "      <td>4.83</td>\n",
       "      <td>4</td>\n",
       "      <td>2023</td>\n",
       "      <td>12</td>\n",
       "      <td>-2.449294e-16</td>\n",
       "      <td>1.000000</td>\n",
       "      <td>0</td>\n",
       "      <td>0.000000</td>\n",
       "      <td>1.000000</td>\n",
       "      <td>49</td>\n",
       "      <td>4</td>\n",
       "      <td>0</td>\n",
       "      <td>0</td>\n",
       "      <td>0</td>\n",
       "    </tr>\n",
       "    <tr>\n",
       "      <th>1313</th>\n",
       "      <td>4.8</td>\n",
       "      <td>2.465310</td>\n",
       "      <td>4.855</td>\n",
       "      <td>1.269370</td>\n",
       "      <td>-2.299391</td>\n",
       "      <td>4.83</td>\n",
       "      <td>13</td>\n",
       "      <td>2023</td>\n",
       "      <td>4</td>\n",
       "      <td>8.660254e-01</td>\n",
       "      <td>-0.500000</td>\n",
       "      <td>3</td>\n",
       "      <td>0.433884</td>\n",
       "      <td>-0.900969</td>\n",
       "      <td>15</td>\n",
       "      <td>2</td>\n",
       "      <td>0</td>\n",
       "      <td>0</td>\n",
       "      <td>0</td>\n",
       "    </tr>\n",
       "    <tr>\n",
       "      <th>1314</th>\n",
       "      <td>4.8</td>\n",
       "      <td>2.170791</td>\n",
       "      <td>4.850</td>\n",
       "      <td>1.262861</td>\n",
       "      <td>-1.856821</td>\n",
       "      <td>4.83</td>\n",
       "      <td>14</td>\n",
       "      <td>2023</td>\n",
       "      <td>4</td>\n",
       "      <td>8.660254e-01</td>\n",
       "      <td>-0.500000</td>\n",
       "      <td>4</td>\n",
       "      <td>-0.433884</td>\n",
       "      <td>-0.900969</td>\n",
       "      <td>15</td>\n",
       "      <td>2</td>\n",
       "      <td>0</td>\n",
       "      <td>0</td>\n",
       "      <td>0</td>\n",
       "    </tr>\n",
       "    <tr>\n",
       "      <th>1315</th>\n",
       "      <td>4.8</td>\n",
       "      <td>2.582699</td>\n",
       "      <td>4.849</td>\n",
       "      <td>1.263159</td>\n",
       "      <td>-1.761394</td>\n",
       "      <td>4.83</td>\n",
       "      <td>17</td>\n",
       "      <td>2023</td>\n",
       "      <td>4</td>\n",
       "      <td>8.660254e-01</td>\n",
       "      <td>-0.500000</td>\n",
       "      <td>0</td>\n",
       "      <td>0.000000</td>\n",
       "      <td>1.000000</td>\n",
       "      <td>16</td>\n",
       "      <td>2</td>\n",
       "      <td>0</td>\n",
       "      <td>0</td>\n",
       "      <td>0</td>\n",
       "    </tr>\n",
       "  </tbody>\n",
       "</table>\n",
       "</div>"
      ],
      "text/plain": [
       "      SOFR Fix  SOFR Volume  DTCC Tsy   RRP Amt  TGA Balance   DFF  day  year  \\\n",
       "1311       4.8     2.409333     4.846  1.267047    -2.186944  4.83    4  2023   \n",
       "1312       4.8     2.378792     4.822  1.267681    -2.502758  4.83    4  2023   \n",
       "1313       4.8     2.465310     4.855  1.269370    -2.299391  4.83   13  2023   \n",
       "1314       4.8     2.170791     4.850  1.262861    -1.856821  4.83   14  2023   \n",
       "1315       4.8     2.582699     4.849  1.263159    -1.761394  4.83   17  2023   \n",
       "\n",
       "      month     month_sin  month_cos  dow   dow_sin   dow_cos  weekofyear  \\\n",
       "1311     11 -5.000000e-01   0.866025    5 -0.974928 -0.222521          44   \n",
       "1312     12 -2.449294e-16   1.000000    0  0.000000  1.000000          49   \n",
       "1313      4  8.660254e-01  -0.500000    3  0.433884 -0.900969          15   \n",
       "1314      4  8.660254e-01  -0.500000    4 -0.433884 -0.900969          15   \n",
       "1315      4  8.660254e-01  -0.500000    0  0.000000  1.000000          16   \n",
       "\n",
       "      quarter  month_end_flag  quarter_end_flag  year_end_flag  \n",
       "1311        4               0                 0              0  \n",
       "1312        4               0                 0              0  \n",
       "1313        2               0                 0              0  \n",
       "1314        2               0                 0              0  \n",
       "1315        2               0                 0              0  "
      ]
     },
     "execution_count": 31,
     "metadata": {},
     "output_type": "execute_result"
    }
   ],
   "source": [
    "df_val.head()"
   ]
  },
  {
   "cell_type": "code",
   "execution_count": 32,
   "metadata": {
    "id": "Yp8CjxiCRwgO"
   },
   "outputs": [],
   "source": [
    "s=MinMaxScaler()\n",
    "\n",
    "df_train_s=s.fit_transform(df_train)\n",
    "df_test_s=s.transform(df_test)\n",
    "df_val_s=s.transform(df_val)\n",
    "\n",
    "df_train_s = pd.DataFrame(df_train_s, columns=df_train.columns, index=df_train.index)\n",
    "df_val_s = pd.DataFrame(df_val_s, columns=df_val.columns, index=df_val.index)\n",
    "df_test_s = pd.DataFrame(df_test_s, columns=df_test.columns, index=df_test.index)"
   ]
  },
  {
   "cell_type": "code",
   "execution_count": 33,
   "metadata": {
    "colab": {
     "base_uri": "https://localhost:8080/"
    },
    "id": "s5vxTf5j-nOZ",
    "outputId": "96696cd1-34d6-4f2b-dcad-81bf978b0075"
   },
   "outputs": [
    {
     "data": {
      "text/plain": [
       "Index(['SOFR Fix', 'SOFR Volume', 'DTCC Tsy', 'RRP Amt', 'TGA Balance', 'DFF',\n",
       "       'day', 'year', 'month', 'month_sin', 'month_cos', 'dow', 'dow_sin',\n",
       "       'dow_cos', 'weekofyear', 'quarter', 'month_end_flag',\n",
       "       'quarter_end_flag', 'year_end_flag'],\n",
       "      dtype='object')"
      ]
     },
     "execution_count": 33,
     "metadata": {},
     "output_type": "execute_result"
    }
   ],
   "source": [
    "df_train_s.columns"
   ]
  },
  {
   "cell_type": "code",
   "execution_count": 34,
   "metadata": {
    "id": "VhtCYNR6T7iL"
   },
   "outputs": [],
   "source": [
    "look_back = 1\n",
    "\n",
    "def build_sequences(df, target_col='SOFR Fix', exo_cols=None, look_back=1):\n",
    "    target = df[target_col].values\n",
    "\n",
    "    exo = df[exo_cols].values\n",
    "\n",
    "    X_seq, X_exo, y = [], [], []\n",
    "\n",
    "    for i in range(look_back, len(df)):\n",
    "        # Sequence of past 'look_back' SOFR Fix values\n",
    "        seq = target[i-look_back:i].reshape(-1, 1)  # shape (look_back, 1)\n",
    "        # Exogenous features on day t (current day)\n",
    "        exo_features = exo[i]\n",
    "        # Target SOFR Fix on day t\n",
    "        y_target = target[i]\n",
    "\n",
    "        X_seq.append(seq)\n",
    "        X_exo.append(exo_features)\n",
    "        y.append(y_target)\n",
    "\n",
    "    return np.array(X_seq), np.array(X_exo), np.array(y)\n",
    "\n",
    "# Define which columns are exogenous features\n",
    "exo_cols = ['SOFR Volume', 'DTCC Tsy', 'RRP Amt', 'TGA Balance', 'DFF',\n",
    "       'day', 'year', 'month', 'month_sin', 'month_cos', 'dow', 'dow_sin',\n",
    "       'dow_cos', 'weekofyear', 'quarter', 'month_end_flag',\n",
    "       'quarter_end_flag', 'year_end_flag']\n",
    "\n",
    "# For training data\n",
    "X_seq_train, X_exo_train, y_train = build_sequences(df_train_s, exo_cols=exo_cols)\n",
    "\n",
    "# For validation data\n",
    "X_seq_val, X_exo_val, y_val = build_sequences(df_val_s, exo_cols=exo_cols)\n",
    "\n",
    "# For test data\n",
    "X_seq_test, X_exo_test, y_test = build_sequences(df_test_s, exo_cols=exo_cols)"
   ]
  },
  {
   "cell_type": "code",
   "execution_count": 35,
   "metadata": {
    "colab": {
     "base_uri": "https://localhost:8080/"
    },
    "id": "v-ArgjsJ_imp",
    "outputId": "270815ab-f5e4-4128-ec16-854f12a99850"
   },
   "outputs": [
    {
     "name": "stdout",
     "output_type": "stream",
     "text": [
      "Train: X_seq: (1310, 1, 1) X_exo: (1310, 18) y: (1310,)\n",
      "Validation: X_seq: (279, 1, 1) X_exo: (279, 18) y: (279,)\n",
      "Test: X_seq: (281, 1, 1) X_exo: (281, 18) y: (281,)\n"
     ]
    }
   ],
   "source": [
    "print(\"Train: X_seq:\", X_seq_train.shape, \"X_exo:\", X_exo_train.shape, \"y:\", y_train.shape)\n",
    "print(\"Validation: X_seq:\", X_seq_val.shape, \"X_exo:\", X_exo_val.shape, \"y:\", y_val.shape)\n",
    "print(\"Test: X_seq:\", X_seq_test.shape, \"X_exo:\", X_exo_test.shape, \"y:\", y_test.shape)"
   ]
  },
  {
   "cell_type": "code",
   "execution_count": 36,
   "metadata": {
    "colab": {
     "base_uri": "https://localhost:8080/",
     "height": 534
    },
    "id": "7Nsf8zwR_tZ4",
    "outputId": "7734937f-b4d8-4dde-f230-13931ddd1278"
   },
   "outputs": [
    {
     "data": {
      "text/html": [
       "<pre style=\"white-space:pre;overflow-x:auto;line-height:normal;font-family:Menlo,'DejaVu Sans Mono',consolas,'Courier New',monospace\"><span style=\"font-weight: bold\">Model: \"functional_1\"</span>\n",
       "</pre>\n"
      ],
      "text/plain": [
       "\u001b[1mModel: \"functional_1\"\u001b[0m\n"
      ]
     },
     "metadata": {},
     "output_type": "display_data"
    },
    {
     "data": {
      "text/html": [
       "<pre style=\"white-space:pre;overflow-x:auto;line-height:normal;font-family:Menlo,'DejaVu Sans Mono',consolas,'Courier New',monospace\">┏━━━━━━━━━━━━━━━━━━━━━━━━━━━━━━━┳━━━━━━━━━━━━━━━━━━━━━━━━━━━┳━━━━━━━━━━━━━━━━━┳━━━━━━━━━━━━━━━━━━━━━━━━━━━━┓\n",
       "┃<span style=\"font-weight: bold\"> Layer (type)                  </span>┃<span style=\"font-weight: bold\"> Output Shape              </span>┃<span style=\"font-weight: bold\">         Param # </span>┃<span style=\"font-weight: bold\"> Connected to               </span>┃\n",
       "┡━━━━━━━━━━━━━━━━━━━━━━━━━━━━━━━╇━━━━━━━━━━━━━━━━━━━━━━━━━━━╇━━━━━━━━━━━━━━━━━╇━━━━━━━━━━━━━━━━━━━━━━━━━━━━┩\n",
       "│ sofr_sequence (<span style=\"color: #0087ff; text-decoration-color: #0087ff\">InputLayer</span>)    │ (<span style=\"color: #00d7ff; text-decoration-color: #00d7ff\">None</span>, <span style=\"color: #00af00; text-decoration-color: #00af00\">1</span>, <span style=\"color: #00af00; text-decoration-color: #00af00\">1</span>)              │               <span style=\"color: #00af00; text-decoration-color: #00af00\">0</span> │ -                          │\n",
       "├───────────────────────────────┼───────────────────────────┼─────────────────┼────────────────────────────┤\n",
       "│ exo_features (<span style=\"color: #0087ff; text-decoration-color: #0087ff\">InputLayer</span>)     │ (<span style=\"color: #00d7ff; text-decoration-color: #00d7ff\">None</span>, <span style=\"color: #00af00; text-decoration-color: #00af00\">18</span>)                │               <span style=\"color: #00af00; text-decoration-color: #00af00\">0</span> │ -                          │\n",
       "├───────────────────────────────┼───────────────────────────┼─────────────────┼────────────────────────────┤\n",
       "│ lstm_layer (<span style=\"color: #0087ff; text-decoration-color: #0087ff\">LSTM</span>)             │ (<span style=\"color: #00d7ff; text-decoration-color: #00d7ff\">None</span>, <span style=\"color: #00af00; text-decoration-color: #00af00\">64</span>)                │          <span style=\"color: #00af00; text-decoration-color: #00af00\">16,896</span> │ sofr_sequence[<span style=\"color: #00af00; text-decoration-color: #00af00\">0</span>][<span style=\"color: #00af00; text-decoration-color: #00af00\">0</span>]        │\n",
       "├───────────────────────────────┼───────────────────────────┼─────────────────┼────────────────────────────┤\n",
       "│ dense_exo1 (<span style=\"color: #0087ff; text-decoration-color: #0087ff\">Dense</span>)            │ (<span style=\"color: #00d7ff; text-decoration-color: #00d7ff\">None</span>, <span style=\"color: #00af00; text-decoration-color: #00af00\">32</span>)                │             <span style=\"color: #00af00; text-decoration-color: #00af00\">608</span> │ exo_features[<span style=\"color: #00af00; text-decoration-color: #00af00\">0</span>][<span style=\"color: #00af00; text-decoration-color: #00af00\">0</span>]         │\n",
       "├───────────────────────────────┼───────────────────────────┼─────────────────┼────────────────────────────┤\n",
       "│ dropout_seq (<span style=\"color: #0087ff; text-decoration-color: #0087ff\">Dropout</span>)         │ (<span style=\"color: #00d7ff; text-decoration-color: #00d7ff\">None</span>, <span style=\"color: #00af00; text-decoration-color: #00af00\">64</span>)                │               <span style=\"color: #00af00; text-decoration-color: #00af00\">0</span> │ lstm_layer[<span style=\"color: #00af00; text-decoration-color: #00af00\">0</span>][<span style=\"color: #00af00; text-decoration-color: #00af00\">0</span>]           │\n",
       "├───────────────────────────────┼───────────────────────────┼─────────────────┼────────────────────────────┤\n",
       "│ dropout_exo (<span style=\"color: #0087ff; text-decoration-color: #0087ff\">Dropout</span>)         │ (<span style=\"color: #00d7ff; text-decoration-color: #00d7ff\">None</span>, <span style=\"color: #00af00; text-decoration-color: #00af00\">32</span>)                │               <span style=\"color: #00af00; text-decoration-color: #00af00\">0</span> │ dense_exo1[<span style=\"color: #00af00; text-decoration-color: #00af00\">0</span>][<span style=\"color: #00af00; text-decoration-color: #00af00\">0</span>]           │\n",
       "├───────────────────────────────┼───────────────────────────┼─────────────────┼────────────────────────────┤\n",
       "│ merge (<span style=\"color: #0087ff; text-decoration-color: #0087ff\">Concatenate</span>)           │ (<span style=\"color: #00d7ff; text-decoration-color: #00d7ff\">None</span>, <span style=\"color: #00af00; text-decoration-color: #00af00\">96</span>)                │               <span style=\"color: #00af00; text-decoration-color: #00af00\">0</span> │ dropout_seq[<span style=\"color: #00af00; text-decoration-color: #00af00\">0</span>][<span style=\"color: #00af00; text-decoration-color: #00af00\">0</span>],         │\n",
       "│                               │                           │                 │ dropout_exo[<span style=\"color: #00af00; text-decoration-color: #00af00\">0</span>][<span style=\"color: #00af00; text-decoration-color: #00af00\">0</span>]          │\n",
       "├───────────────────────────────┼───────────────────────────┼─────────────────┼────────────────────────────┤\n",
       "│ dense_merge1 (<span style=\"color: #0087ff; text-decoration-color: #0087ff\">Dense</span>)          │ (<span style=\"color: #00d7ff; text-decoration-color: #00d7ff\">None</span>, <span style=\"color: #00af00; text-decoration-color: #00af00\">32</span>)                │           <span style=\"color: #00af00; text-decoration-color: #00af00\">3,104</span> │ merge[<span style=\"color: #00af00; text-decoration-color: #00af00\">0</span>][<span style=\"color: #00af00; text-decoration-color: #00af00\">0</span>]                │\n",
       "├───────────────────────────────┼───────────────────────────┼─────────────────┼────────────────────────────┤\n",
       "│ output (<span style=\"color: #0087ff; text-decoration-color: #0087ff\">Dense</span>)                │ (<span style=\"color: #00d7ff; text-decoration-color: #00d7ff\">None</span>, <span style=\"color: #00af00; text-decoration-color: #00af00\">1</span>)                 │              <span style=\"color: #00af00; text-decoration-color: #00af00\">33</span> │ dense_merge1[<span style=\"color: #00af00; text-decoration-color: #00af00\">0</span>][<span style=\"color: #00af00; text-decoration-color: #00af00\">0</span>]         │\n",
       "└───────────────────────────────┴───────────────────────────┴─────────────────┴────────────────────────────┘\n",
       "</pre>\n"
      ],
      "text/plain": [
       "┏━━━━━━━━━━━━━━━━━━━━━━━━━━━━━━━┳━━━━━━━━━━━━━━━━━━━━━━━━━━━┳━━━━━━━━━━━━━━━━━┳━━━━━━━━━━━━━━━━━━━━━━━━━━━━┓\n",
       "┃\u001b[1m \u001b[0m\u001b[1mLayer (type)                 \u001b[0m\u001b[1m \u001b[0m┃\u001b[1m \u001b[0m\u001b[1mOutput Shape             \u001b[0m\u001b[1m \u001b[0m┃\u001b[1m \u001b[0m\u001b[1m        Param #\u001b[0m\u001b[1m \u001b[0m┃\u001b[1m \u001b[0m\u001b[1mConnected to              \u001b[0m\u001b[1m \u001b[0m┃\n",
       "┡━━━━━━━━━━━━━━━━━━━━━━━━━━━━━━━╇━━━━━━━━━━━━━━━━━━━━━━━━━━━╇━━━━━━━━━━━━━━━━━╇━━━━━━━━━━━━━━━━━━━━━━━━━━━━┩\n",
       "│ sofr_sequence (\u001b[38;5;33mInputLayer\u001b[0m)    │ (\u001b[38;5;45mNone\u001b[0m, \u001b[38;5;34m1\u001b[0m, \u001b[38;5;34m1\u001b[0m)              │               \u001b[38;5;34m0\u001b[0m │ -                          │\n",
       "├───────────────────────────────┼───────────────────────────┼─────────────────┼────────────────────────────┤\n",
       "│ exo_features (\u001b[38;5;33mInputLayer\u001b[0m)     │ (\u001b[38;5;45mNone\u001b[0m, \u001b[38;5;34m18\u001b[0m)                │               \u001b[38;5;34m0\u001b[0m │ -                          │\n",
       "├───────────────────────────────┼───────────────────────────┼─────────────────┼────────────────────────────┤\n",
       "│ lstm_layer (\u001b[38;5;33mLSTM\u001b[0m)             │ (\u001b[38;5;45mNone\u001b[0m, \u001b[38;5;34m64\u001b[0m)                │          \u001b[38;5;34m16,896\u001b[0m │ sofr_sequence[\u001b[38;5;34m0\u001b[0m][\u001b[38;5;34m0\u001b[0m]        │\n",
       "├───────────────────────────────┼───────────────────────────┼─────────────────┼────────────────────────────┤\n",
       "│ dense_exo1 (\u001b[38;5;33mDense\u001b[0m)            │ (\u001b[38;5;45mNone\u001b[0m, \u001b[38;5;34m32\u001b[0m)                │             \u001b[38;5;34m608\u001b[0m │ exo_features[\u001b[38;5;34m0\u001b[0m][\u001b[38;5;34m0\u001b[0m]         │\n",
       "├───────────────────────────────┼───────────────────────────┼─────────────────┼────────────────────────────┤\n",
       "│ dropout_seq (\u001b[38;5;33mDropout\u001b[0m)         │ (\u001b[38;5;45mNone\u001b[0m, \u001b[38;5;34m64\u001b[0m)                │               \u001b[38;5;34m0\u001b[0m │ lstm_layer[\u001b[38;5;34m0\u001b[0m][\u001b[38;5;34m0\u001b[0m]           │\n",
       "├───────────────────────────────┼───────────────────────────┼─────────────────┼────────────────────────────┤\n",
       "│ dropout_exo (\u001b[38;5;33mDropout\u001b[0m)         │ (\u001b[38;5;45mNone\u001b[0m, \u001b[38;5;34m32\u001b[0m)                │               \u001b[38;5;34m0\u001b[0m │ dense_exo1[\u001b[38;5;34m0\u001b[0m][\u001b[38;5;34m0\u001b[0m]           │\n",
       "├───────────────────────────────┼───────────────────────────┼─────────────────┼────────────────────────────┤\n",
       "│ merge (\u001b[38;5;33mConcatenate\u001b[0m)           │ (\u001b[38;5;45mNone\u001b[0m, \u001b[38;5;34m96\u001b[0m)                │               \u001b[38;5;34m0\u001b[0m │ dropout_seq[\u001b[38;5;34m0\u001b[0m][\u001b[38;5;34m0\u001b[0m],         │\n",
       "│                               │                           │                 │ dropout_exo[\u001b[38;5;34m0\u001b[0m][\u001b[38;5;34m0\u001b[0m]          │\n",
       "├───────────────────────────────┼───────────────────────────┼─────────────────┼────────────────────────────┤\n",
       "│ dense_merge1 (\u001b[38;5;33mDense\u001b[0m)          │ (\u001b[38;5;45mNone\u001b[0m, \u001b[38;5;34m32\u001b[0m)                │           \u001b[38;5;34m3,104\u001b[0m │ merge[\u001b[38;5;34m0\u001b[0m][\u001b[38;5;34m0\u001b[0m]                │\n",
       "├───────────────────────────────┼───────────────────────────┼─────────────────┼────────────────────────────┤\n",
       "│ output (\u001b[38;5;33mDense\u001b[0m)                │ (\u001b[38;5;45mNone\u001b[0m, \u001b[38;5;34m1\u001b[0m)                 │              \u001b[38;5;34m33\u001b[0m │ dense_merge1[\u001b[38;5;34m0\u001b[0m][\u001b[38;5;34m0\u001b[0m]         │\n",
       "└───────────────────────────────┴───────────────────────────┴─────────────────┴────────────────────────────┘\n"
      ]
     },
     "metadata": {},
     "output_type": "display_data"
    },
    {
     "data": {
      "text/html": [
       "<pre style=\"white-space:pre;overflow-x:auto;line-height:normal;font-family:Menlo,'DejaVu Sans Mono',consolas,'Courier New',monospace\"><span style=\"font-weight: bold\"> Total params: </span><span style=\"color: #00af00; text-decoration-color: #00af00\">20,641</span> (80.63 KB)\n",
       "</pre>\n"
      ],
      "text/plain": [
       "\u001b[1m Total params: \u001b[0m\u001b[38;5;34m20,641\u001b[0m (80.63 KB)\n"
      ]
     },
     "metadata": {},
     "output_type": "display_data"
    },
    {
     "data": {
      "text/html": [
       "<pre style=\"white-space:pre;overflow-x:auto;line-height:normal;font-family:Menlo,'DejaVu Sans Mono',consolas,'Courier New',monospace\"><span style=\"font-weight: bold\"> Trainable params: </span><span style=\"color: #00af00; text-decoration-color: #00af00\">20,641</span> (80.63 KB)\n",
       "</pre>\n"
      ],
      "text/plain": [
       "\u001b[1m Trainable params: \u001b[0m\u001b[38;5;34m20,641\u001b[0m (80.63 KB)\n"
      ]
     },
     "metadata": {},
     "output_type": "display_data"
    },
    {
     "data": {
      "text/html": [
       "<pre style=\"white-space:pre;overflow-x:auto;line-height:normal;font-family:Menlo,'DejaVu Sans Mono',consolas,'Courier New',monospace\"><span style=\"font-weight: bold\"> Non-trainable params: </span><span style=\"color: #00af00; text-decoration-color: #00af00\">0</span> (0.00 B)\n",
       "</pre>\n"
      ],
      "text/plain": [
       "\u001b[1m Non-trainable params: \u001b[0m\u001b[38;5;34m0\u001b[0m (0.00 B)\n"
      ]
     },
     "metadata": {},
     "output_type": "display_data"
    }
   ],
   "source": [
    "input_seq = Input(shape=X_seq_train.shape[1:], name=\"sofr_sequence\")\n",
    "x = LSTM(64, activation=\"tanh\", name=\"lstm_layer\")(input_seq)\n",
    "x = Dropout(0.3, name=\"dropout_seq\")(x)\n",
    "\n",
    "# 🔸 Exogenous branch input: static exogenous features at current day\n",
    "input_exo = Input(shape=X_exo_train.shape[1:], name=\"exo_features\")\n",
    "y = Dense(32, activation=\"relu\", name=\"dense_exo1\")(input_exo)\n",
    "y = Dropout(0.3, name=\"dropout_exo\")(y)\n",
    "\n",
    "# 🔸 Merge both branches\n",
    "merged = Concatenate(name=\"merge\")([x, y])\n",
    "z = Dense(32, activation=\"relu\", name=\"dense_merge1\")(merged)\n",
    "output = Dense(1, activation=\"linear\", name=\"output\")(z)\n",
    "\n",
    "model = Model(inputs=[input_seq, input_exo], outputs=output)\n",
    "\n",
    "# 🔸 Compile model\n",
    "model.compile(optimizer=\"nadam\", loss=\"mse\", metrics=[\"mae\"])\n",
    "\n",
    "# 🔸 Print summary to check architecture\n",
    "model.summary()"
   ]
  },
  {
   "cell_type": "code",
   "execution_count": 39,
   "metadata": {
    "colab": {
     "base_uri": "https://localhost:8080/"
    },
    "id": "-W0Mk-fvEfDk",
    "outputId": "b8b72565-9549-4963-dca5-329e5d6b5917"
   },
   "outputs": [
    {
     "name": "stdout",
     "output_type": "stream",
     "text": [
      "Epoch 1/1000\n",
      "41/41 - 3s - 78ms/step - loss: 0.0887 - mae: 0.2277 - val_loss: 0.3102 - val_mae: 0.5508 - learning_rate: 0.0010\n",
      "Epoch 2/1000\n",
      "41/41 - 0s - 3ms/step - loss: 0.0330 - mae: 0.1425 - val_loss: 0.0616 - val_mae: 0.2412 - learning_rate: 0.0010\n",
      "Epoch 3/1000\n",
      "41/41 - 0s - 3ms/step - loss: 0.0131 - mae: 0.0891 - val_loss: 0.0021 - val_mae: 0.0358 - learning_rate: 0.0010\n",
      "Epoch 4/1000\n",
      "41/41 - 0s - 4ms/step - loss: 0.0058 - mae: 0.0583 - val_loss: 9.4458e-04 - val_mae: 0.0248 - learning_rate: 0.0010\n",
      "Epoch 5/1000\n",
      "41/41 - 0s - 3ms/step - loss: 0.0042 - mae: 0.0501 - val_loss: 7.0466e-04 - val_mae: 0.0197 - learning_rate: 0.0010\n",
      "Epoch 6/1000\n",
      "41/41 - 0s - 3ms/step - loss: 0.0037 - mae: 0.0447 - val_loss: 9.6090e-04 - val_mae: 0.0251 - learning_rate: 0.0010\n",
      "Epoch 7/1000\n",
      "41/41 - 0s - 3ms/step - loss: 0.0032 - mae: 0.0395 - val_loss: 0.0011 - val_mae: 0.0270 - learning_rate: 0.0010\n",
      "Epoch 8/1000\n",
      "41/41 - 0s - 3ms/step - loss: 0.0025 - mae: 0.0357 - val_loss: 0.0012 - val_mae: 0.0274 - learning_rate: 0.0010\n",
      "Epoch 9/1000\n",
      "41/41 - 0s - 3ms/step - loss: 0.0025 - mae: 0.0342 - val_loss: 5.3830e-04 - val_mae: 0.0177 - learning_rate: 0.0010\n",
      "Epoch 10/1000\n",
      "41/41 - 0s - 3ms/step - loss: 0.0022 - mae: 0.0325 - val_loss: 5.5351e-04 - val_mae: 0.0194 - learning_rate: 0.0010\n",
      "Epoch 11/1000\n",
      "41/41 - 0s - 3ms/step - loss: 0.0022 - mae: 0.0329 - val_loss: 7.4378e-04 - val_mae: 0.0203 - learning_rate: 0.0010\n",
      "Epoch 12/1000\n",
      "41/41 - 0s - 3ms/step - loss: 0.0021 - mae: 0.0309 - val_loss: 0.0016 - val_mae: 0.0340 - learning_rate: 0.0010\n",
      "Epoch 13/1000\n",
      "41/41 - 0s - 3ms/step - loss: 0.0020 - mae: 0.0302 - val_loss: 5.1071e-04 - val_mae: 0.0174 - learning_rate: 0.0010\n",
      "Epoch 14/1000\n",
      "41/41 - 0s - 3ms/step - loss: 0.0018 - mae: 0.0279 - val_loss: 6.5529e-04 - val_mae: 0.0197 - learning_rate: 0.0010\n",
      "Epoch 15/1000\n",
      "41/41 - 0s - 3ms/step - loss: 0.0017 - mae: 0.0276 - val_loss: 6.4187e-04 - val_mae: 0.0193 - learning_rate: 0.0010\n",
      "Epoch 16/1000\n",
      "41/41 - 0s - 3ms/step - loss: 0.0018 - mae: 0.0264 - val_loss: 3.3577e-04 - val_mae: 0.0154 - learning_rate: 0.0010\n",
      "Epoch 17/1000\n",
      "41/41 - 0s - 3ms/step - loss: 0.0016 - mae: 0.0259 - val_loss: 4.8316e-04 - val_mae: 0.0182 - learning_rate: 0.0010\n",
      "Epoch 18/1000\n",
      "41/41 - 0s - 3ms/step - loss: 0.0018 - mae: 0.0270 - val_loss: 4.6343e-04 - val_mae: 0.0168 - learning_rate: 0.0010\n",
      "Epoch 19/1000\n",
      "41/41 - 0s - 3ms/step - loss: 0.0017 - mae: 0.0253 - val_loss: 4.8123e-04 - val_mae: 0.0187 - learning_rate: 0.0010\n",
      "Epoch 20/1000\n",
      "41/41 - 0s - 3ms/step - loss: 0.0016 - mae: 0.0250 - val_loss: 5.4096e-04 - val_mae: 0.0186 - learning_rate: 0.0010\n",
      "Epoch 21/1000\n",
      "41/41 - 0s - 3ms/step - loss: 0.0015 - mae: 0.0239 - val_loss: 7.0147e-04 - val_mae: 0.0230 - learning_rate: 0.0010\n",
      "Epoch 22/1000\n",
      "41/41 - 0s - 3ms/step - loss: 0.0015 - mae: 0.0246 - val_loss: 5.4263e-04 - val_mae: 0.0196 - learning_rate: 0.0010\n",
      "Epoch 23/1000\n",
      "41/41 - 0s - 3ms/step - loss: 0.0015 - mae: 0.0237 - val_loss: 0.0013 - val_mae: 0.0318 - learning_rate: 0.0010\n",
      "Epoch 24/1000\n",
      "41/41 - 0s - 3ms/step - loss: 0.0013 - mae: 0.0229 - val_loss: 4.6074e-04 - val_mae: 0.0183 - learning_rate: 0.0010\n",
      "Epoch 25/1000\n",
      "41/41 - 0s - 3ms/step - loss: 0.0015 - mae: 0.0243 - val_loss: 0.0020 - val_mae: 0.0411 - learning_rate: 0.0010\n",
      "Epoch 26/1000\n",
      "41/41 - 0s - 3ms/step - loss: 0.0013 - mae: 0.0231 - val_loss: 0.0010 - val_mae: 0.0288 - learning_rate: 0.0010\n",
      "Epoch 27/1000\n",
      "41/41 - 0s - 3ms/step - loss: 0.0013 - mae: 0.0227 - val_loss: 4.4068e-04 - val_mae: 0.0180 - learning_rate: 0.0010\n",
      "Epoch 28/1000\n",
      "41/41 - 0s - 3ms/step - loss: 0.0013 - mae: 0.0216 - val_loss: 0.0013 - val_mae: 0.0324 - learning_rate: 0.0010\n",
      "Epoch 29/1000\n",
      "41/41 - 0s - 3ms/step - loss: 0.0013 - mae: 0.0214 - val_loss: 8.3870e-04 - val_mae: 0.0258 - learning_rate: 0.0010\n",
      "Epoch 30/1000\n",
      "41/41 - 0s - 3ms/step - loss: 0.0011 - mae: 0.0214 - val_loss: 4.7801e-04 - val_mae: 0.0188 - learning_rate: 0.0010\n",
      "Epoch 31/1000\n",
      "\n",
      "Epoch 31: ReduceLROnPlateau reducing learning rate to 0.0005000000237487257.\n",
      "41/41 - 0s - 3ms/step - loss: 0.0012 - mae: 0.0209 - val_loss: 0.0014 - val_mae: 0.0349 - learning_rate: 0.0010\n",
      "Epoch 32/1000\n",
      "41/41 - 0s - 4ms/step - loss: 0.0012 - mae: 0.0218 - val_loss: 4.2837e-04 - val_mae: 0.0178 - learning_rate: 5.0000e-04\n",
      "Epoch 33/1000\n",
      "41/41 - 0s - 4ms/step - loss: 0.0013 - mae: 0.0209 - val_loss: 9.0571e-04 - val_mae: 0.0270 - learning_rate: 5.0000e-04\n",
      "Epoch 34/1000\n",
      "41/41 - 0s - 4ms/step - loss: 0.0012 - mae: 0.0202 - val_loss: 2.9697e-04 - val_mae: 0.0144 - learning_rate: 5.0000e-04\n",
      "Epoch 35/1000\n",
      "41/41 - 0s - 4ms/step - loss: 0.0011 - mae: 0.0209 - val_loss: 7.3088e-04 - val_mae: 0.0240 - learning_rate: 5.0000e-04\n",
      "Epoch 36/1000\n",
      "41/41 - 0s - 5ms/step - loss: 0.0012 - mae: 0.0211 - val_loss: 2.7299e-04 - val_mae: 0.0137 - learning_rate: 5.0000e-04\n",
      "Epoch 37/1000\n",
      "41/41 - 0s - 5ms/step - loss: 0.0012 - mae: 0.0208 - val_loss: 7.3049e-04 - val_mae: 0.0239 - learning_rate: 5.0000e-04\n",
      "Epoch 38/1000\n",
      "41/41 - 0s - 5ms/step - loss: 0.0012 - mae: 0.0209 - val_loss: 0.0010 - val_mae: 0.0295 - learning_rate: 5.0000e-04\n",
      "Epoch 39/1000\n",
      "41/41 - 0s - 4ms/step - loss: 0.0012 - mae: 0.0209 - val_loss: 8.4981e-04 - val_mae: 0.0266 - learning_rate: 5.0000e-04\n",
      "Epoch 40/1000\n",
      "41/41 - 0s - 4ms/step - loss: 0.0011 - mae: 0.0195 - val_loss: 1.8568e-04 - val_mae: 0.0109 - learning_rate: 5.0000e-04\n",
      "Epoch 41/1000\n",
      "41/41 - 0s - 3ms/step - loss: 0.0012 - mae: 0.0205 - val_loss: 9.1004e-04 - val_mae: 0.0274 - learning_rate: 5.0000e-04\n",
      "Epoch 42/1000\n",
      "41/41 - 0s - 3ms/step - loss: 0.0011 - mae: 0.0199 - val_loss: 8.0547e-04 - val_mae: 0.0255 - learning_rate: 5.0000e-04\n",
      "Epoch 43/1000\n",
      "41/41 - 0s - 3ms/step - loss: 0.0011 - mae: 0.0196 - val_loss: 3.6125e-04 - val_mae: 0.0162 - learning_rate: 5.0000e-04\n",
      "Epoch 44/1000\n",
      "41/41 - 0s - 3ms/step - loss: 0.0011 - mae: 0.0201 - val_loss: 8.0107e-04 - val_mae: 0.0254 - learning_rate: 5.0000e-04\n",
      "Epoch 45/1000\n",
      "41/41 - 0s - 3ms/step - loss: 0.0012 - mae: 0.0204 - val_loss: 6.9378e-04 - val_mae: 0.0236 - learning_rate: 5.0000e-04\n",
      "Epoch 46/1000\n",
      "41/41 - 0s - 3ms/step - loss: 0.0010 - mae: 0.0201 - val_loss: 8.4776e-04 - val_mae: 0.0267 - learning_rate: 5.0000e-04\n",
      "Epoch 47/1000\n",
      "41/41 - 0s - 3ms/step - loss: 0.0010 - mae: 0.0193 - val_loss: 4.5961e-04 - val_mae: 0.0186 - learning_rate: 5.0000e-04\n",
      "Epoch 48/1000\n",
      "41/41 - 0s - 3ms/step - loss: 0.0011 - mae: 0.0193 - val_loss: 0.0013 - val_mae: 0.0336 - learning_rate: 5.0000e-04\n",
      "Epoch 49/1000\n",
      "41/41 - 0s - 3ms/step - loss: 0.0010 - mae: 0.0187 - val_loss: 6.8951e-04 - val_mae: 0.0236 - learning_rate: 5.0000e-04\n",
      "Epoch 50/1000\n",
      "41/41 - 0s - 3ms/step - loss: 0.0011 - mae: 0.0198 - val_loss: 5.2855e-04 - val_mae: 0.0200 - learning_rate: 5.0000e-04\n",
      "Epoch 51/1000\n",
      "41/41 - 0s - 3ms/step - loss: 0.0011 - mae: 0.0193 - val_loss: 3.9432e-04 - val_mae: 0.0169 - learning_rate: 5.0000e-04\n",
      "Epoch 52/1000\n",
      "41/41 - 0s - 4ms/step - loss: 0.0011 - mae: 0.0197 - val_loss: 0.0011 - val_mae: 0.0310 - learning_rate: 5.0000e-04\n",
      "Epoch 53/1000\n",
      "41/41 - 0s - 4ms/step - loss: 0.0011 - mae: 0.0201 - val_loss: 6.2818e-04 - val_mae: 0.0216 - learning_rate: 5.0000e-04\n",
      "Epoch 54/1000\n",
      "41/41 - 0s - 4ms/step - loss: 0.0010 - mae: 0.0191 - val_loss: 0.0011 - val_mae: 0.0304 - learning_rate: 5.0000e-04\n",
      "Epoch 55/1000\n",
      "\n",
      "Epoch 55: ReduceLROnPlateau reducing learning rate to 0.0002500000118743628.\n",
      "41/41 - 0s - 4ms/step - loss: 9.3427e-04 - mae: 0.0193 - val_loss: 5.0392e-04 - val_mae: 0.0193 - learning_rate: 5.0000e-04\n",
      "Epoch 56/1000\n",
      "41/41 - 0s - 4ms/step - loss: 0.0011 - mae: 0.0198 - val_loss: 7.6718e-04 - val_mae: 0.0250 - learning_rate: 2.5000e-04\n",
      "Epoch 57/1000\n",
      "41/41 - 0s - 3ms/step - loss: 9.3884e-04 - mae: 0.0184 - val_loss: 9.2156e-04 - val_mae: 0.0277 - learning_rate: 2.5000e-04\n",
      "Epoch 58/1000\n",
      "41/41 - 0s - 4ms/step - loss: 0.0012 - mae: 0.0191 - val_loss: 6.3216e-04 - val_mae: 0.0222 - learning_rate: 2.5000e-04\n",
      "Epoch 59/1000\n",
      "41/41 - 0s - 4ms/step - loss: 0.0010 - mae: 0.0193 - val_loss: 7.5682e-04 - val_mae: 0.0245 - learning_rate: 2.5000e-04\n",
      "Epoch 60/1000\n",
      "41/41 - 0s - 4ms/step - loss: 9.7696e-04 - mae: 0.0185 - val_loss: 0.0011 - val_mae: 0.0314 - learning_rate: 2.5000e-04\n",
      "Epoch 61/1000\n",
      "41/41 - 0s - 4ms/step - loss: 0.0010 - mae: 0.0188 - val_loss: 9.9918e-04 - val_mae: 0.0292 - learning_rate: 2.5000e-04\n",
      "Epoch 62/1000\n",
      "41/41 - 0s - 4ms/step - loss: 9.7983e-04 - mae: 0.0192 - val_loss: 3.1869e-04 - val_mae: 0.0151 - learning_rate: 2.5000e-04\n",
      "Epoch 63/1000\n",
      "41/41 - 0s - 3ms/step - loss: 9.3110e-04 - mae: 0.0185 - val_loss: 6.2802e-04 - val_mae: 0.0224 - learning_rate: 2.5000e-04\n",
      "Epoch 64/1000\n",
      "41/41 - 0s - 3ms/step - loss: 0.0010 - mae: 0.0197 - val_loss: 5.9283e-04 - val_mae: 0.0219 - learning_rate: 2.5000e-04\n",
      "Epoch 65/1000\n",
      "41/41 - 0s - 5ms/step - loss: 9.9781e-04 - mae: 0.0190 - val_loss: 4.8788e-04 - val_mae: 0.0194 - learning_rate: 2.5000e-04\n",
      "Epoch 66/1000\n",
      "41/41 - 0s - 4ms/step - loss: 0.0010 - mae: 0.0193 - val_loss: 0.0010 - val_mae: 0.0300 - learning_rate: 2.5000e-04\n",
      "Epoch 67/1000\n",
      "41/41 - 0s - 4ms/step - loss: 9.6864e-04 - mae: 0.0184 - val_loss: 8.2039e-04 - val_mae: 0.0263 - learning_rate: 2.5000e-04\n",
      "Epoch 68/1000\n",
      "41/41 - 0s - 4ms/step - loss: 9.3452e-04 - mae: 0.0185 - val_loss: 0.0011 - val_mae: 0.0305 - learning_rate: 2.5000e-04\n",
      "Epoch 69/1000\n",
      "41/41 - 0s - 4ms/step - loss: 9.7482e-04 - mae: 0.0187 - val_loss: 0.0013 - val_mae: 0.0346 - learning_rate: 2.5000e-04\n",
      "Epoch 70/1000\n",
      "\n",
      "Epoch 70: ReduceLROnPlateau reducing learning rate to 0.0001250000059371814.\n",
      "41/41 - 0s - 4ms/step - loss: 0.0010 - mae: 0.0187 - val_loss: 0.0011 - val_mae: 0.0317 - learning_rate: 2.5000e-04\n"
     ]
    }
   ],
   "source": [
    "# Callbacks to improve training\n",
    "early_stopping = EarlyStopping(monitor=\"val_loss\", patience=30, restore_best_weights=True)\n",
    "reduce_lr = ReduceLROnPlateau(monitor=\"val_loss\", patience=15, factor=0.5, verbose=1)\n",
    "\n",
    "history = model.fit(\n",
    "    [X_seq_train, X_exo_train], y_train,\n",
    "    validation_data=([X_seq_val, X_exo_val], y_val),\n",
    "    epochs=1000,\n",
    "    batch_size=32,\n",
    "    callbacks=[early_stopping, reduce_lr],\n",
    "    verbose=2\n",
    ")\n"
   ]
  },
  {
   "cell_type": "code",
   "execution_count": 40,
   "metadata": {
    "colab": {
     "base_uri": "https://localhost:8080/"
    },
    "id": "tj7tQ-2MJuId",
    "outputId": "f0410e63-7688-4e0b-9a00-c477a0f47299"
   },
   "outputs": [
    {
     "name": "stdout",
     "output_type": "stream",
     "text": [
      "\u001b[1m9/9\u001b[0m \u001b[32m━━━━━━━━━━━━━━━━━━━━\u001b[0m\u001b[37m\u001b[0m \u001b[1m0s\u001b[0m 23ms/step\n",
      "\u001b[1m9/9\u001b[0m \u001b[32m━━━━━━━━━━━━━━━━━━━━\u001b[0m\u001b[37m\u001b[0m \u001b[1m0s\u001b[0m 1ms/step \n"
     ]
    }
   ],
   "source": [
    "# --- Predict on test set with current model ---\n",
    "y_pred_norm_test = model.predict([X_seq_test, X_exo_test]).flatten()\n",
    "\n",
    "# --- Undo normalization for predictions and actuals ---\n",
    "dummy_pred_test = np.zeros((len(y_pred_norm_test), df_train.shape[1]))\n",
    "dummy_actual_test = np.zeros((len(y_test), df_train.shape[1]))\n",
    "sofr_idx = df_train.columns.get_loc(\"SOFR Fix\")\n",
    "\n",
    "dummy_pred_test[:, sofr_idx] = y_pred_norm_test\n",
    "dummy_actual_test[:, sofr_idx] = y_test\n",
    "\n",
    "pred_orig_test = s.inverse_transform(dummy_pred_test)[:, sofr_idx]\n",
    "actual_orig_test = s.inverse_transform(dummy_actual_test)[:, sofr_idx]\n",
    "\n",
    "\n",
    "# Predict normalized outputs on validation set\n",
    "y_pred_norm_val = model.predict([X_seq_val, X_exo_val]).flatten()\n",
    "\n",
    "# Undo normalization\n",
    "dummy_pred_val = np.zeros((len(y_pred_norm_val), df_train.shape[1]))\n",
    "dummy_actual_val = np.zeros((len(y_val), df_train.shape[1]))\n",
    "dummy_pred_val[:, sofr_idx] = y_pred_norm_val\n",
    "dummy_actual_val[:, sofr_idx] = y_val\n",
    "\n",
    "pred_orig_val = s.inverse_transform(dummy_pred_val)[:, sofr_idx]\n",
    "actual_orig_val = s.inverse_transform(dummy_actual_val)[:, sofr_idx]"
   ]
  },
  {
   "cell_type": "code",
   "execution_count": 41,
   "metadata": {
    "colab": {
     "base_uri": "https://localhost:8080/"
    },
    "id": "KnvntR8IHLsa",
    "outputId": "c902f7a5-21a2-499d-8f8b-9ca21d14df94"
   },
   "outputs": [
    {
     "name": "stdout",
     "output_type": "stream",
     "text": [
      "🔹 Validation Metrics (original scale)\n",
      "MAE:  0.0571\n",
      "RMSE: 0.0714\n",
      "MAPE: 1.09%\n",
      "R²:   0.7721\n"
     ]
    }
   ],
   "source": [
    "\n",
    "\n",
    "mae_val = mean_absolute_error(actual_orig_val, pred_orig_val)\n",
    "rmse_val = mean_squared_error(actual_orig_val, pred_orig_val)**0.5\n",
    "mape_val = np.mean(np.abs((actual_orig_val - pred_orig_val) / actual_orig_val)) * 100\n",
    "r2_val = r2_score(actual_orig_val, pred_orig_val)\n",
    "\n",
    "print(\"🔹 Validation Metrics (original scale)\")\n",
    "print(f\"MAE:  {mae_val:.4f}\")\n",
    "print(f\"RMSE: {rmse_val:.4f}\")\n",
    "print(f\"MAPE: {mape_val:.2f}%\")\n",
    "print(f\"R²:   {r2_val:.4f}\")\n"
   ]
  },
  {
   "cell_type": "code",
   "execution_count": 42,
   "metadata": {
    "colab": {
     "base_uri": "https://localhost:8080/"
    },
    "id": "YyN0FLucEqQs",
    "outputId": "60791053-1836-40c7-85a6-8c024a9d3a21"
   },
   "outputs": [
    {
     "name": "stdout",
     "output_type": "stream",
     "text": [
      "\n",
      "🔹 Test Metrics (Original Scale)\n",
      "MAE:  0.0900\n",
      "RMSE: 0.1124\n",
      "MAPE: 1.86%\n",
      "R²:   0.9347\n",
      "Pseudo-Accuracy (<1% error): 31.32%\n",
      "Pseudo-Accuracy (<5% error): 96.80%\n"
     ]
    }
   ],
   "source": [
    "\n",
    "\n",
    "# --- Compute metrics on original scale ---\n",
    "mae_test = mean_absolute_error(actual_orig_test, pred_orig_test)\n",
    "rmse_test = mean_squared_error(actual_orig_test, pred_orig_test)**0.5\n",
    "mape_test = np.mean(np.abs((actual_orig_test - pred_orig_test) / actual_orig_test)) * 100\n",
    "r2_test = r2_score(actual_orig_test, pred_orig_test)\n",
    "accuracy_test1 = np.mean(np.abs(actual_orig_test - pred_orig_test) / actual_orig_test < 0.01) * 100\n",
    "accuracy_test5 = np.mean(np.abs(actual_orig_test - pred_orig_test) / actual_orig_test < 0.05) * 100\n",
    "\n",
    "# --- Print metrics ---\n",
    "print(\"\\n🔹 Test Metrics (Original Scale)\")\n",
    "print(f\"MAE:  {mae_test:.4f}\")\n",
    "print(f\"RMSE: {rmse_test:.4f}\")\n",
    "print(f\"MAPE: {mape_test:.2f}%\")\n",
    "print(f\"R²:   {r2_test:.4f}\")\n",
    "print(f\"Pseudo-Accuracy (<1% error): {accuracy_test1:.2f}%\")\n",
    "print(f\"Pseudo-Accuracy (<5% error): {accuracy_test5:.2f}%\")\n"
   ]
  },
  {
   "cell_type": "code",
   "execution_count": 43,
   "metadata": {
    "colab": {
     "base_uri": "https://localhost:8080/",
     "height": 564
    },
    "id": "b-jO-KCpIrCf",
    "outputId": "d224858a-919b-4a71-f37d-7e0d5348f16c"
   },
   "outputs": [
    {
     "data": {
      "image/png": "[encoded data removed]",
      "text/plain": [
       "<Figure size 1200x600 with 1 Axes>"
      ]
     },
     "metadata": {},
     "output_type": "display_data"
    }
   ],
   "source": [
    "\n",
    "plt.figure(figsize=(12,6))\n",
    "plt.plot(actual_orig_test, label=\"Actual SOFR Fix\", color=\"black\")\n",
    "plt.plot(pred_orig_test, label=\"Predicted SOFR Fix\", color=\"red\", alpha=0.7)\n",
    "plt.legend()\n",
    "plt.title(\"Predicted vs Actual SOFR Fix on Test Data\")\n",
    "plt.xlabel(\"Time Index\")\n",
    "plt.ylabel(\"SOFR Fix\")\n",
    "plt.grid(True)\n",
    "plt.show()\n"
   ]
  },
  {
   "cell_type": "code",
   "execution_count": 44,
   "metadata": {
    "colab": {
     "base_uri": "https://localhost:8080/"
    },
    "id": "8bFA8FOOJd29",
    "outputId": "f42710f7-1c4d-440e-c700-64696ee0cd6b"
   },
   "outputs": [
    {
     "name": "stdout",
     "output_type": "stream",
     "text": [
      "\n",
      "🔹 Test Metrics (Original Scale)\n",
      "MAE:  0.0900\n",
      "RMSE: 0.1124\n",
      "MAPE: 1.86%\n",
      "R²:   0.9347\n",
      "Pseudo-Accuracy (<1% error): 31.32%\n",
      "Pseudo-Accuracy (<5% error): 96.80%\n",
      "\n",
      "🔹 Last Test Sample:\n",
      "Predicted SOFR Fix: 4.5555\n",
      "Actual SOFR Fix:    4.4500\n"
     ]
    }
   ],
   "source": [
    "# --- Compute metrics ---\n",
    "mae_test = mean_absolute_error(actual_orig_test, pred_orig_test)\n",
    "rmse_test = mean_squared_error(actual_orig_test, pred_orig_test)**0.5\n",
    "mape_test = np.mean(np.abs((actual_orig_test - pred_orig_test) / actual_orig_test)) * 100\n",
    "r2_test = r2_score(actual_orig_test, pred_orig_test)\n",
    "accuracy_test1 = np.mean(np.abs(actual_orig_test - pred_orig_test) / actual_orig_test < 0.01) * 100\n",
    "accuracy_test5 = np.mean(np.abs(actual_orig_test - pred_orig_test) / actual_orig_test < 0.05) * 100\n",
    "\n",
    "# --- Print metrics ---\n",
    "print(\"\\n🔹 Test Metrics (Original Scale)\")\n",
    "print(f\"MAE:  {mae_test:.4f}\")\n",
    "print(f\"RMSE: {rmse_test:.4f}\")\n",
    "print(f\"MAPE: {mape_test:.2f}%\")\n",
    "print(f\"R²:   {r2_test:.4f}\")\n",
    "print(f\"Pseudo-Accuracy (<1% error): {accuracy_test1:.2f}%\")\n",
    "print(f\"Pseudo-Accuracy (<5% error): {accuracy_test5:.2f}%\")\n",
    "\n",
    "# --- Print last predicted vs. actual value ---\n",
    "print(f\"\\n🔹 Last Test Sample:\")\n",
    "print(f\"Predicted SOFR Fix: {pred_orig_test[-1]:.4f}\")\n",
    "print(f\"Actual SOFR Fix:    {actual_orig_test[-1]:.4f}\")\n"
   ]
  },
  {
   "cell_type": "code",
   "execution_count": null,
   "metadata": {
    "id": "hj-pivPOeBap"
   },
   "outputs": [],
   "source": []
  }
 ],
 "metadata": {
  "colab": {
   "provenance": []
  },
  "kernelspec": {
   "display_name": "Python 3 (ipykernel)",
   "language": "python",
   "name": "python3"
  },
  "language_info": {
   "codemirror_mode": {
    "name": "ipython",
    "version": 3
   },
   "file_extension": ".py",
   "mimetype": "text/x-python",
   "name": "python",
   "nbconvert_exporter": "python",
   "pygments_lexer": "ipython3",
   "version": "3.12.3"
  }
 },
 "nbformat": 4,
 "nbformat_minor": 4
}
